{
 "cells": [
  {
   "cell_type": "markdown",
   "metadata": {},
   "source": [
    "# Deep Q-learning for trading"
   ]
  },
  {
   "cell_type": "markdown",
   "metadata": {},
   "source": [
    "## Imports, Settings & Helpers"
   ]
  },
  {
   "cell_type": "markdown",
   "metadata": {},
   "source": [
    "### Imports"
   ]
  },
  {
   "cell_type": "code",
   "execution_count": 1,
   "metadata": {
    "ExecuteTime": {
     "end_time": "2021-11-16T04:10:21.897529Z",
     "start_time": "2021-11-16T04:10:21.892603Z"
    }
   },
   "outputs": [],
   "source": [
    "import warnings\n",
    "warnings.filterwarnings('ignore')"
   ]
  },
  {
   "cell_type": "code",
   "execution_count": 3,
   "metadata": {
    "ExecuteTime": {
     "end_time": "2021-11-16T04:10:23.441506Z",
     "start_time": "2021-11-16T04:10:21.898569Z"
    }
   },
   "outputs": [],
   "source": [
    "%matplotlib inline\n",
    "from pathlib import Path\n",
    "from time import time\n",
    "from collections import deque\n",
    "from random import sample, choice\n",
    "import string\n",
    "\n",
    "import numpy as np\n",
    "import pandas as pd\n",
    "\n",
    "import matplotlib.pyplot as plt\n",
    "from matplotlib.ticker import FuncFormatter\n",
    "import seaborn as sns\n",
    "\n",
    "import tensorflow as tf\n",
    "from tensorflow.keras import Sequential\n",
    "from tensorflow.keras.layers import Dense, Dropout\n",
    "from tensorflow.keras.optimizers import Adam\n",
    "from tensorflow.keras.regularizers import l2\n",
    "\n",
    "import gym\n",
    "from gym.envs.registration import register\n",
    "\n",
    "import os"
   ]
  },
  {
   "cell_type": "markdown",
   "metadata": {},
   "source": [
    "### Settings"
   ]
  },
  {
   "cell_type": "code",
   "execution_count": 3,
   "metadata": {
    "ExecuteTime": {
     "end_time": "2021-11-16T04:10:24.669692Z",
     "start_time": "2021-11-16T04:10:24.664510Z"
    }
   },
   "outputs": [],
   "source": [
    "# np.random.seed(42)\n",
    "# tf.random.set_seed(42)"
   ]
  },
  {
   "cell_type": "code",
   "execution_count": 4,
   "metadata": {
    "ExecuteTime": {
     "end_time": "2021-11-16T04:10:24.791466Z",
     "start_time": "2021-11-16T04:10:24.786681Z"
    }
   },
   "outputs": [],
   "source": [
    "sns.set_style('whitegrid')"
   ]
  },
  {
   "cell_type": "code",
   "execution_count": 5,
   "metadata": {
    "ExecuteTime": {
     "end_time": "2021-11-16T04:10:25.000425Z",
     "start_time": "2021-11-16T04:10:24.926689Z"
    }
   },
   "outputs": [
    {
     "name": "stdout",
     "output_type": "stream",
     "text": [
      "Using GPU\n"
     ]
    }
   ],
   "source": [
    "gpu_devices = tf.config.experimental.list_physical_devices('GPU')\n",
    "if gpu_devices:\n",
    "    print('Using GPU')\n",
    "    tf.config.experimental.set_memory_growth(gpu_devices[0], True)\n",
    "else:\n",
    "    print('Using CPU')"
   ]
  },
  {
   "cell_type": "code",
   "execution_count": 6,
   "metadata": {
    "ExecuteTime": {
     "end_time": "2021-11-16T04:10:25.033871Z",
     "start_time": "2021-11-16T04:10:25.031449Z"
    }
   },
   "outputs": [],
   "source": [
    "results_path = Path('results', 'trading_bot')\n",
    "if not results_path.exists():\n",
    "    results_path.mkdir(parents=True)"
   ]
  },
  {
   "cell_type": "markdown",
   "metadata": {},
   "source": [
    "### Helper functions"
   ]
  },
  {
   "cell_type": "code",
   "execution_count": 7,
   "metadata": {
    "ExecuteTime": {
     "end_time": "2021-11-16T04:10:30.326477Z",
     "start_time": "2021-11-16T04:10:30.324003Z"
    }
   },
   "outputs": [],
   "source": [
    "def format_time(t):\n",
    "    m_, s = divmod(t, 60)\n",
    "    h, m = divmod(m_, 60)\n",
    "    return '{:02.0f}:{:02.0f}:{:02.0f}'.format(h, m, s)"
   ]
  },
  {
   "cell_type": "markdown",
   "metadata": {},
   "source": [
    "## Set up Gym Environment"
   ]
  },
  {
   "cell_type": "markdown",
   "metadata": {},
   "source": [
    "### Register Trading Environment"
   ]
  },
  {
   "cell_type": "code",
   "execution_count": 8,
   "metadata": {
    "ExecuteTime": {
     "end_time": "2021-11-16T04:10:31.011029Z",
     "start_time": "2021-11-16T04:10:31.004868Z"
    }
   },
   "outputs": [],
   "source": [
    "trading_days = 252"
   ]
  },
  {
   "cell_type": "code",
   "execution_count": 9,
   "metadata": {
    "ExecuteTime": {
     "end_time": "2021-11-16T04:10:31.167371Z",
     "start_time": "2021-11-16T04:10:31.162398Z"
    }
   },
   "outputs": [],
   "source": [
    "register(\n",
    "    id='trading-v0',\n",
    "    entry_point='trading_env:TradingEnvironment',\n",
    "    max_episode_steps=trading_days\n",
    ")"
   ]
  },
  {
   "cell_type": "markdown",
   "metadata": {},
   "source": [
    "### Initialize Trading Environment"
   ]
  },
  {
   "cell_type": "code",
   "execution_count": 10,
   "metadata": {
    "ExecuteTime": {
     "end_time": "2021-11-16T04:10:33.062989Z",
     "start_time": "2021-11-16T04:10:33.061026Z"
    }
   },
   "outputs": [],
   "source": [
    "trading_cost_bps = 1e-3\n",
    "time_cost_bps = 1e-4"
   ]
  },
  {
   "cell_type": "code",
   "execution_count": 11,
   "metadata": {},
   "outputs": [],
   "source": [
    "start_date = '1995-01-01'\n",
    "end_date = '2018-03-20'"
   ]
  },
  {
   "cell_type": "code",
   "execution_count": 12,
   "metadata": {},
   "outputs": [],
   "source": [
    "tickers = ['AAPL', 'KO']"
   ]
  },
  {
   "cell_type": "code",
   "execution_count": 13,
   "metadata": {
    "ExecuteTime": {
     "end_time": "2021-11-16T04:14:48.346878Z",
     "start_time": "2021-11-16T04:14:46.084768Z"
    }
   },
   "outputs": [
    {
     "name": "stderr",
     "output_type": "stream",
     "text": [
      "INFO:trading_env:trading_env logger started.\n",
      "INFO:trading_env:loading data for AAPL...\n",
      "INFO:trading_env:got data for AAPL...\n",
      "INFO:trading_env:preprocessing data for AAPL...\n",
      "INFO:trading_env:finished preprocessing for AAPL...\n"
     ]
    },
    {
     "data": {
      "text/plain": [
       "[42]"
      ]
     },
     "execution_count": 13,
     "metadata": {},
     "output_type": "execute_result"
    }
   ],
   "source": [
    "trading_environment = gym.make('trading-v0', \n",
    "                               tickers=tickers,\n",
    "                               trading_days=trading_days,\n",
    "                               trading_cost_bps=trading_cost_bps,\n",
    "                               time_cost_bps=time_cost_bps,\n",
    "                               start_date=start_date,\n",
    "                               end_date=end_date)\n",
    "# trading_environment.seed(42)"
   ]
  },
  {
   "cell_type": "markdown",
   "metadata": {},
   "source": [
    "### Get Environment Params"
   ]
  },
  {
   "cell_type": "code",
   "execution_count": 14,
   "metadata": {
    "ExecuteTime": {
     "end_time": "2021-02-25T06:20:32.548145Z",
     "start_time": "2021-02-25T06:20:32.545830Z"
    }
   },
   "outputs": [],
   "source": [
    "state_dim = trading_environment.observation_space.shape[0]\n",
    "num_actions = trading_environment.action_space.n\n",
    "max_episode_steps = trading_environment.spec.max_episode_steps"
   ]
  },
  {
   "cell_type": "markdown",
   "metadata": {},
   "source": [
    "## Data understanding"
   ]
  },
  {
   "cell_type": "code",
   "execution_count": 15,
   "metadata": {},
   "outputs": [],
   "source": [
    "df = trading_environment.data_source.data"
   ]
  },
  {
   "cell_type": "markdown",
   "metadata": {},
   "source": [
    "### Full data set"
   ]
  },
  {
   "cell_type": "code",
   "execution_count": 16,
   "metadata": {},
   "outputs": [
    {
     "data": {
      "text/html": [
       "<div>\n",
       "<style scoped>\n",
       "    .dataframe tbody tr th:only-of-type {\n",
       "        vertical-align: middle;\n",
       "    }\n",
       "\n",
       "    .dataframe tbody tr th {\n",
       "        vertical-align: top;\n",
       "    }\n",
       "\n",
       "    .dataframe thead th {\n",
       "        text-align: right;\n",
       "    }\n",
       "</style>\n",
       "<table border=\"1\" class=\"dataframe\">\n",
       "  <thead>\n",
       "    <tr style=\"text-align: right;\">\n",
       "      <th></th>\n",
       "      <th></th>\n",
       "      <th>returns</th>\n",
       "      <th>ret_2</th>\n",
       "      <th>ret_5</th>\n",
       "      <th>ret_10</th>\n",
       "      <th>ret_21</th>\n",
       "      <th>rsi</th>\n",
       "      <th>macd</th>\n",
       "      <th>atr</th>\n",
       "      <th>stoch</th>\n",
       "      <th>ultosc</th>\n",
       "      <th>bbp</th>\n",
       "      <th>obv</th>\n",
       "      <th>adx</th>\n",
       "    </tr>\n",
       "    <tr>\n",
       "      <th>date</th>\n",
       "      <th>ticker</th>\n",
       "      <th></th>\n",
       "      <th></th>\n",
       "      <th></th>\n",
       "      <th></th>\n",
       "      <th></th>\n",
       "      <th></th>\n",
       "      <th></th>\n",
       "      <th></th>\n",
       "      <th></th>\n",
       "      <th></th>\n",
       "      <th></th>\n",
       "      <th></th>\n",
       "      <th></th>\n",
       "    </tr>\n",
       "  </thead>\n",
       "  <tbody>\n",
       "    <tr>\n",
       "      <th>1995-02-17</th>\n",
       "      <th>AAPL</th>\n",
       "      <td>-0.015976</td>\n",
       "      <td>-0.097683</td>\n",
       "      <td>-0.513813</td>\n",
       "      <td>0.447725</td>\n",
       "      <td>-0.759755</td>\n",
       "      <td>-1.172816</td>\n",
       "      <td>-0.246578</td>\n",
       "      <td>-0.804597</td>\n",
       "      <td>1.642238</td>\n",
       "      <td>-0.428773</td>\n",
       "      <td>-1.003936</td>\n",
       "      <td>-1.630029</td>\n",
       "      <td>0.395411</td>\n",
       "    </tr>\n",
       "    <tr>\n",
       "      <th>1995-02-21</th>\n",
       "      <th>AAPL</th>\n",
       "      <td>-0.035294</td>\n",
       "      <td>-1.335113</td>\n",
       "      <td>-1.105396</td>\n",
       "      <td>0.029390</td>\n",
       "      <td>-0.483208</td>\n",
       "      <td>-1.172816</td>\n",
       "      <td>-0.244099</td>\n",
       "      <td>-0.803389</td>\n",
       "      <td>0.938720</td>\n",
       "      <td>-1.611171</td>\n",
       "      <td>-1.713317</td>\n",
       "      <td>-1.636072</td>\n",
       "      <td>0.260086</td>\n",
       "    </tr>\n",
       "    <tr>\n",
       "      <th>1995-02-22</th>\n",
       "      <th>AAPL</th>\n",
       "      <td>-0.004634</td>\n",
       "      <td>-1.060462</td>\n",
       "      <td>-0.893211</td>\n",
       "      <td>-0.110054</td>\n",
       "      <td>-0.450794</td>\n",
       "      <td>-1.546250</td>\n",
       "      <td>-0.242776</td>\n",
       "      <td>-0.804971</td>\n",
       "      <td>0.464631</td>\n",
       "      <td>-1.325032</td>\n",
       "      <td>-1.189750</td>\n",
       "      <td>-1.641951</td>\n",
       "      <td>0.078439</td>\n",
       "    </tr>\n",
       "    <tr>\n",
       "      <th>1995-02-23</th>\n",
       "      <th>AAPL</th>\n",
       "      <td>-0.015192</td>\n",
       "      <td>-0.558209</td>\n",
       "      <td>-0.990585</td>\n",
       "      <td>-0.676007</td>\n",
       "      <td>-0.454756</td>\n",
       "      <td>-1.546250</td>\n",
       "      <td>-0.242565</td>\n",
       "      <td>-0.803709</td>\n",
       "      <td>0.025644</td>\n",
       "      <td>-1.858836</td>\n",
       "      <td>-1.120229</td>\n",
       "      <td>-1.648257</td>\n",
       "      <td>-0.032883</td>\n",
       "    </tr>\n",
       "    <tr>\n",
       "      <th>1995-02-24</th>\n",
       "      <th>AAPL</th>\n",
       "      <td>-0.029609</td>\n",
       "      <td>-1.175608</td>\n",
       "      <td>-1.652244</td>\n",
       "      <td>-1.308678</td>\n",
       "      <td>-0.561879</td>\n",
       "      <td>-1.546250</td>\n",
       "      <td>-0.243696</td>\n",
       "      <td>-0.802538</td>\n",
       "      <td>-0.205581</td>\n",
       "      <td>-1.753790</td>\n",
       "      <td>-1.371404</td>\n",
       "      <td>-1.659655</td>\n",
       "      <td>-0.175016</td>\n",
       "    </tr>\n",
       "    <tr>\n",
       "      <th>...</th>\n",
       "      <th>...</th>\n",
       "      <td>...</td>\n",
       "      <td>...</td>\n",
       "      <td>...</td>\n",
       "      <td>...</td>\n",
       "      <td>...</td>\n",
       "      <td>...</td>\n",
       "      <td>...</td>\n",
       "      <td>...</td>\n",
       "      <td>...</td>\n",
       "      <td>...</td>\n",
       "      <td>...</td>\n",
       "      <td>...</td>\n",
       "      <td>...</td>\n",
       "    </tr>\n",
       "    <tr>\n",
       "      <th>2018-03-14</th>\n",
       "      <th>AAPL</th>\n",
       "      <td>-0.008501</td>\n",
       "      <td>-0.515377</td>\n",
       "      <td>0.212883</td>\n",
       "      <td>-0.120714</td>\n",
       "      <td>0.546289</td>\n",
       "      <td>0.052702</td>\n",
       "      <td>2.265549</td>\n",
       "      <td>3.286422</td>\n",
       "      <td>1.338588</td>\n",
       "      <td>-0.065812</td>\n",
       "      <td>-0.600342</td>\n",
       "      <td>1.079507</td>\n",
       "      <td>-0.993838</td>\n",
       "    </tr>\n",
       "    <tr>\n",
       "      <th>2018-03-15</th>\n",
       "      <th>AAPL</th>\n",
       "      <td>0.001177</td>\n",
       "      <td>-0.246406</td>\n",
       "      <td>0.055693</td>\n",
       "      <td>0.093987</td>\n",
       "      <td>0.471575</td>\n",
       "      <td>-0.910413</td>\n",
       "      <td>2.330159</td>\n",
       "      <td>3.174563</td>\n",
       "      <td>2.002312</td>\n",
       "      <td>-0.140143</td>\n",
       "      <td>-0.891498</td>\n",
       "      <td>1.081317</td>\n",
       "      <td>-0.986825</td>\n",
       "    </tr>\n",
       "    <tr>\n",
       "      <th>2018-03-16</th>\n",
       "      <th>AAPL</th>\n",
       "      <td>-0.003526</td>\n",
       "      <td>-0.121378</td>\n",
       "      <td>-0.273389</td>\n",
       "      <td>-0.025247</td>\n",
       "      <td>0.289107</td>\n",
       "      <td>-1.500003</td>\n",
       "      <td>2.347585</td>\n",
       "      <td>3.013826</td>\n",
       "      <td>1.795057</td>\n",
       "      <td>-0.204948</td>\n",
       "      <td>-0.940338</td>\n",
       "      <td>1.078365</td>\n",
       "      <td>-0.995574</td>\n",
       "    </tr>\n",
       "    <tr>\n",
       "      <th>2018-03-19</th>\n",
       "      <th>AAPL</th>\n",
       "      <td>-0.015279</td>\n",
       "      <td>-0.532998</td>\n",
       "      <td>-0.664664</td>\n",
       "      <td>-0.237780</td>\n",
       "      <td>-0.102213</td>\n",
       "      <td>-1.500003</td>\n",
       "      <td>2.280659</td>\n",
       "      <td>3.107358</td>\n",
       "      <td>1.006962</td>\n",
       "      <td>-0.598904</td>\n",
       "      <td>-1.646960</td>\n",
       "      <td>1.075735</td>\n",
       "      <td>-1.078099</td>\n",
       "    </tr>\n",
       "    <tr>\n",
       "      <th>2018-03-20</th>\n",
       "      <th>AAPL</th>\n",
       "      <td>-0.000342</td>\n",
       "      <td>-0.454291</td>\n",
       "      <td>-0.519820</td>\n",
       "      <td>-0.232124</td>\n",
       "      <td>-0.079307</td>\n",
       "      <td>-1.546250</td>\n",
       "      <td>2.157594</td>\n",
       "      <td>2.981982</td>\n",
       "      <td>0.182942</td>\n",
       "      <td>-1.171923</td>\n",
       "      <td>-1.147672</td>\n",
       "      <td>1.074187</td>\n",
       "      <td>-1.154730</td>\n",
       "    </tr>\n",
       "  </tbody>\n",
       "</table>\n",
       "<p>5810 rows × 13 columns</p>\n",
       "</div>"
      ],
      "text/plain": [
       "                    returns     ret_2     ret_5    ret_10    ret_21       rsi  \\\n",
       "date       ticker                                                               \n",
       "1995-02-17 AAPL   -0.015976 -0.097683 -0.513813  0.447725 -0.759755 -1.172816   \n",
       "1995-02-21 AAPL   -0.035294 -1.335113 -1.105396  0.029390 -0.483208 -1.172816   \n",
       "1995-02-22 AAPL   -0.004634 -1.060462 -0.893211 -0.110054 -0.450794 -1.546250   \n",
       "1995-02-23 AAPL   -0.015192 -0.558209 -0.990585 -0.676007 -0.454756 -1.546250   \n",
       "1995-02-24 AAPL   -0.029609 -1.175608 -1.652244 -1.308678 -0.561879 -1.546250   \n",
       "...                     ...       ...       ...       ...       ...       ...   \n",
       "2018-03-14 AAPL   -0.008501 -0.515377  0.212883 -0.120714  0.546289  0.052702   \n",
       "2018-03-15 AAPL    0.001177 -0.246406  0.055693  0.093987  0.471575 -0.910413   \n",
       "2018-03-16 AAPL   -0.003526 -0.121378 -0.273389 -0.025247  0.289107 -1.500003   \n",
       "2018-03-19 AAPL   -0.015279 -0.532998 -0.664664 -0.237780 -0.102213 -1.500003   \n",
       "2018-03-20 AAPL   -0.000342 -0.454291 -0.519820 -0.232124 -0.079307 -1.546250   \n",
       "\n",
       "                       macd       atr     stoch    ultosc       bbp       obv  \\\n",
       "date       ticker                                                               \n",
       "1995-02-17 AAPL   -0.246578 -0.804597  1.642238 -0.428773 -1.003936 -1.630029   \n",
       "1995-02-21 AAPL   -0.244099 -0.803389  0.938720 -1.611171 -1.713317 -1.636072   \n",
       "1995-02-22 AAPL   -0.242776 -0.804971  0.464631 -1.325032 -1.189750 -1.641951   \n",
       "1995-02-23 AAPL   -0.242565 -0.803709  0.025644 -1.858836 -1.120229 -1.648257   \n",
       "1995-02-24 AAPL   -0.243696 -0.802538 -0.205581 -1.753790 -1.371404 -1.659655   \n",
       "...                     ...       ...       ...       ...       ...       ...   \n",
       "2018-03-14 AAPL    2.265549  3.286422  1.338588 -0.065812 -0.600342  1.079507   \n",
       "2018-03-15 AAPL    2.330159  3.174563  2.002312 -0.140143 -0.891498  1.081317   \n",
       "2018-03-16 AAPL    2.347585  3.013826  1.795057 -0.204948 -0.940338  1.078365   \n",
       "2018-03-19 AAPL    2.280659  3.107358  1.006962 -0.598904 -1.646960  1.075735   \n",
       "2018-03-20 AAPL    2.157594  2.981982  0.182942 -1.171923 -1.147672  1.074187   \n",
       "\n",
       "                        adx  \n",
       "date       ticker            \n",
       "1995-02-17 AAPL    0.395411  \n",
       "1995-02-21 AAPL    0.260086  \n",
       "1995-02-22 AAPL    0.078439  \n",
       "1995-02-23 AAPL   -0.032883  \n",
       "1995-02-24 AAPL   -0.175016  \n",
       "...                     ...  \n",
       "2018-03-14 AAPL   -0.993838  \n",
       "2018-03-15 AAPL   -0.986825  \n",
       "2018-03-16 AAPL   -0.995574  \n",
       "2018-03-19 AAPL   -1.078099  \n",
       "2018-03-20 AAPL   -1.154730  \n",
       "\n",
       "[5810 rows x 13 columns]"
      ]
     },
     "execution_count": 16,
     "metadata": {},
     "output_type": "execute_result"
    }
   ],
   "source": [
    "df"
   ]
  },
  {
   "cell_type": "code",
   "execution_count": 17,
   "metadata": {},
   "outputs": [
    {
     "name": "stdout",
     "output_type": "stream",
     "text": [
      "--- Shape ---\n",
      "Number of records: 5810\n",
      "Number of attributes: 13\n",
      "\n",
      "--- Types ---\n",
      "returns    float64\n",
      "ret_2      float64\n",
      "ret_5      float64\n",
      "ret_10     float64\n",
      "ret_21     float64\n",
      "rsi        float64\n",
      "macd       float64\n",
      "atr        float64\n",
      "stoch      float64\n",
      "ultosc     float64\n",
      "bbp        float64\n",
      "obv        float64\n",
      "adx        float64\n",
      "dtype: object\n",
      "\n",
      "--- Statistical measures for each attribute ---\n",
      "           returns         ret_2         ret_5        ret_10        ret_21  \\\n",
      "count  5810.000000  5.810000e+03  5.810000e+03  5.810000e+03  5.810000e+03   \n",
      "mean      0.001246 -1.222965e-17 -3.179709e-17  3.424302e-17  1.956744e-17   \n",
      "std       0.028335  1.000086e+00  1.000086e+00  1.000086e+00  1.000086e+00   \n",
      "min      -0.518692 -1.378619e+01 -9.507692e+00 -7.212507e+00 -5.574646e+00   \n",
      "25%      -0.012037 -4.883584e-01 -5.198453e-01 -5.436342e-01 -5.426571e-01   \n",
      "50%       0.000491 -2.103655e-02 -2.427213e-03 -2.021815e-02 -2.751882e-02   \n",
      "75%       0.014132  4.721391e-01  5.031412e-01  5.174589e-01  5.617877e-01   \n",
      "max       0.332152  1.193574e+01  1.059583e+01  9.391879e+00  8.606004e+00   \n",
      "\n",
      "                rsi         macd           atr         stoch        ultosc  \\\n",
      "count  5.810000e+03  5810.000000  5.810000e+03  5.810000e+03  5.810000e+03   \n",
      "mean   3.179709e-17     0.000000 -7.826977e-17 -1.245896e-17  9.783721e-18   \n",
      "std    1.000086e+00     1.000086  1.000086e+00  1.000086e+00  1.000086e+00   \n",
      "min   -1.546250e+00    -4.390542 -8.418625e-01 -2.668955e+00 -3.144873e+00   \n",
      "25%   -9.040511e-01    -0.260635 -7.871263e-01 -6.531803e-01 -7.107664e-01   \n",
      "50%    8.869232e-03    -0.195632 -5.166138e-01  9.981967e-03 -3.805473e-03   \n",
      "75%    9.273804e-01     0.190158  6.509936e-01  6.538685e-01  7.219735e-01   \n",
      "max    1.481836e+00     4.456872  4.490840e+00  2.626961e+00  2.824899e+00   \n",
      "\n",
      "                bbp           obv           adx  \n",
      "count  5.810000e+03  5.810000e+03  5.810000e+03  \n",
      "mean  -4.402674e-17 -1.565395e-16  1.467558e-17  \n",
      "std    1.000086e+00  1.000086e+00  1.000086e+00  \n",
      "min   -1.811260e+00 -1.671449e+00 -1.736560e+00  \n",
      "25%   -9.032616e-01 -8.950436e-01 -7.543978e-01  \n",
      "50%    8.839455e-02  3.020397e-01 -1.888397e-01  \n",
      "75%    9.035942e-01  1.018819e+00  5.406890e-01  \n",
      "max    1.650350e+00  1.305825e+00  4.100843e+00  \n",
      "\n",
      "--- Correlation ---\n"
     ]
    },
    {
     "data": {
      "image/png": "[encoded data removed]",
      "text/plain": [
       "<Figure size 1080x1080 with 2 Axes>"
      ]
     },
     "metadata": {},
     "output_type": "display_data"
    }
   ],
   "source": [
    "print(\"--- Shape ---\")\n",
    "print(\"Number of records:\", df.shape[0])\n",
    "print(\"Number of attributes:\", df.shape[1])\n",
    "print()\n",
    "print(\"--- Types ---\")\n",
    "print(df.dtypes)\n",
    "print()\n",
    "print(\"--- Statistical measures for each attribute ---\")\n",
    "print(df.describe())\n",
    "print()\n",
    "print(\"--- Correlation ---\")\n",
    "plt.figure(figsize=(15, 15))\n",
    "sns.heatmap(df.corr(), square=True, annot=True)\n",
    "plt.show()"
   ]
  },
  {
   "cell_type": "markdown",
   "metadata": {},
   "source": [
    "### Per ticker data sets"
   ]
  },
  {
   "cell_type": "code",
   "execution_count": 18,
   "metadata": {},
   "outputs": [
    {
     "name": "stdout",
     "output_type": "stream",
     "text": [
      "AAPL\n",
      "                    returns     ret_2     ret_5    ret_10    ret_21       rsi  \\\n",
      "date       ticker                                                               \n",
      "1995-02-17 AAPL   -0.015976 -0.097683 -0.513813  0.447725 -0.759755 -1.172816   \n",
      "1995-02-21 AAPL   -0.035294 -1.335113 -1.105396  0.029390 -0.483208 -1.172816   \n",
      "1995-02-22 AAPL   -0.004634 -1.060462 -0.893211 -0.110054 -0.450794 -1.546250   \n",
      "1995-02-23 AAPL   -0.015192 -0.558209 -0.990585 -0.676007 -0.454756 -1.546250   \n",
      "1995-02-24 AAPL   -0.029609 -1.175608 -1.652244 -1.308678 -0.561879 -1.546250   \n",
      "...                     ...       ...       ...       ...       ...       ...   \n",
      "2018-03-14 AAPL   -0.008501 -0.515377  0.212883 -0.120714  0.546289  0.052702   \n",
      "2018-03-15 AAPL    0.001177 -0.246406  0.055693  0.093987  0.471575 -0.910413   \n",
      "2018-03-16 AAPL   -0.003526 -0.121378 -0.273389 -0.025247  0.289107 -1.500003   \n",
      "2018-03-19 AAPL   -0.015279 -0.532998 -0.664664 -0.237780 -0.102213 -1.500003   \n",
      "2018-03-20 AAPL   -0.000342 -0.454291 -0.519820 -0.232124 -0.079307 -1.546250   \n",
      "\n",
      "                       macd       atr     stoch    ultosc       bbp       obv  \\\n",
      "date       ticker                                                               \n",
      "1995-02-17 AAPL   -0.246578 -0.804597  1.642238 -0.428773 -1.003936 -1.630029   \n",
      "1995-02-21 AAPL   -0.244099 -0.803389  0.938720 -1.611171 -1.713317 -1.636072   \n",
      "1995-02-22 AAPL   -0.242776 -0.804971  0.464631 -1.325032 -1.189750 -1.641951   \n",
      "1995-02-23 AAPL   -0.242565 -0.803709  0.025644 -1.858836 -1.120229 -1.648257   \n",
      "1995-02-24 AAPL   -0.243696 -0.802538 -0.205581 -1.753790 -1.371404 -1.659655   \n",
      "...                     ...       ...       ...       ...       ...       ...   \n",
      "2018-03-14 AAPL    2.265549  3.286422  1.338588 -0.065812 -0.600342  1.079507   \n",
      "2018-03-15 AAPL    2.330159  3.174563  2.002312 -0.140143 -0.891498  1.081317   \n",
      "2018-03-16 AAPL    2.347585  3.013826  1.795057 -0.204948 -0.940338  1.078365   \n",
      "2018-03-19 AAPL    2.280659  3.107358  1.006962 -0.598904 -1.646960  1.075735   \n",
      "2018-03-20 AAPL    2.157594  2.981982  0.182942 -1.171923 -1.147672  1.074187   \n",
      "\n",
      "                        adx  \n",
      "date       ticker            \n",
      "1995-02-17 AAPL    0.395411  \n",
      "1995-02-21 AAPL    0.260086  \n",
      "1995-02-22 AAPL    0.078439  \n",
      "1995-02-23 AAPL   -0.032883  \n",
      "1995-02-24 AAPL   -0.175016  \n",
      "...                     ...  \n",
      "2018-03-14 AAPL   -0.993838  \n",
      "2018-03-15 AAPL   -0.986825  \n",
      "2018-03-16 AAPL   -0.995574  \n",
      "2018-03-19 AAPL   -1.078099  \n",
      "2018-03-20 AAPL   -1.154730  \n",
      "\n",
      "[5810 rows x 13 columns]\n",
      "--- Shape ---\n",
      "Number of records: 5810\n",
      "Number of attributes: 13\n",
      "\n",
      "--- Types ---\n",
      "returns    float64\n",
      "ret_2      float64\n",
      "ret_5      float64\n",
      "ret_10     float64\n",
      "ret_21     float64\n",
      "rsi        float64\n",
      "macd       float64\n",
      "atr        float64\n",
      "stoch      float64\n",
      "ultosc     float64\n",
      "bbp        float64\n",
      "obv        float64\n",
      "adx        float64\n",
      "dtype: object\n",
      "\n",
      "--- Statistical measures for each attribute ---\n",
      "           returns         ret_2         ret_5        ret_10        ret_21  \\\n",
      "count  5810.000000  5.810000e+03  5.810000e+03  5.810000e+03  5.810000e+03   \n",
      "mean      0.001246 -1.222965e-17 -3.179709e-17  3.424302e-17  1.956744e-17   \n",
      "std       0.028335  1.000086e+00  1.000086e+00  1.000086e+00  1.000086e+00   \n",
      "min      -0.518692 -1.378619e+01 -9.507692e+00 -7.212507e+00 -5.574646e+00   \n",
      "25%      -0.012037 -4.883584e-01 -5.198453e-01 -5.436342e-01 -5.426571e-01   \n",
      "50%       0.000491 -2.103655e-02 -2.427213e-03 -2.021815e-02 -2.751882e-02   \n",
      "75%       0.014132  4.721391e-01  5.031412e-01  5.174589e-01  5.617877e-01   \n",
      "max       0.332152  1.193574e+01  1.059583e+01  9.391879e+00  8.606004e+00   \n",
      "\n",
      "                rsi         macd           atr         stoch        ultosc  \\\n",
      "count  5.810000e+03  5810.000000  5.810000e+03  5.810000e+03  5.810000e+03   \n",
      "mean   3.179709e-17     0.000000 -7.826977e-17 -1.245896e-17  9.783721e-18   \n",
      "std    1.000086e+00     1.000086  1.000086e+00  1.000086e+00  1.000086e+00   \n",
      "min   -1.546250e+00    -4.390542 -8.418625e-01 -2.668955e+00 -3.144873e+00   \n",
      "25%   -9.040511e-01    -0.260635 -7.871263e-01 -6.531803e-01 -7.107664e-01   \n",
      "50%    8.869232e-03    -0.195632 -5.166138e-01  9.981967e-03 -3.805473e-03   \n",
      "75%    9.273804e-01     0.190158  6.509936e-01  6.538685e-01  7.219735e-01   \n",
      "max    1.481836e+00     4.456872  4.490840e+00  2.626961e+00  2.824899e+00   \n",
      "\n",
      "                bbp           obv           adx  \n",
      "count  5.810000e+03  5.810000e+03  5.810000e+03  \n",
      "mean  -4.402674e-17 -1.565395e-16  1.467558e-17  \n",
      "std    1.000086e+00  1.000086e+00  1.000086e+00  \n",
      "min   -1.811260e+00 -1.671449e+00 -1.736560e+00  \n",
      "25%   -9.032616e-01 -8.950436e-01 -7.543978e-01  \n",
      "50%    8.839455e-02  3.020397e-01 -1.888397e-01  \n",
      "75%    9.035942e-01  1.018819e+00  5.406890e-01  \n",
      "max    1.650350e+00  1.305825e+00  4.100843e+00  \n",
      "\n",
      "--- Correlation ---\n"
     ]
    },
    {
     "data": {
      "image/png": "[encoded data removed]",
      "text/plain": [
       "<Figure size 1080x1080 with 2 Axes>"
      ]
     },
     "metadata": {},
     "output_type": "display_data"
    }
   ],
   "source": [
    "for ticker in tickers:\n",
    "    print(ticker)\n",
    "    df_ticker = df.loc[(slice(None), ticker), :]\n",
    "    print(df_ticker)\n",
    "    print(\"--- Shape ---\")\n",
    "    print(\"Number of records:\", df_ticker.shape[0])\n",
    "    print(\"Number of attributes:\", df_ticker.shape[1])\n",
    "    print()\n",
    "    print(\"--- Types ---\")\n",
    "    print(df_ticker.dtypes)\n",
    "    print()\n",
    "    print(\"--- Statistical measures for each attribute ---\")\n",
    "    print(df_ticker.describe())\n",
    "    print()\n",
    "    print(\"--- Correlation ---\")\n",
    "    plt.figure(figsize=(15, 15))\n",
    "    sns.heatmap(df_ticker.corr(), square=True, annot=True)\n",
    "    plt.show()"
   ]
  },
  {
   "cell_type": "markdown",
   "metadata": {},
   "source": [
    "## Define Trading Agent"
   ]
  },
  {
   "cell_type": "code",
   "execution_count": 19,
   "metadata": {
    "ExecuteTime": {
     "end_time": "2021-02-25T06:20:32.563692Z",
     "start_time": "2021-02-25T06:20:32.549782Z"
    }
   },
   "outputs": [],
   "source": [
    "class DDQNAgent:\n",
    "    def __init__(self, state_dim,\n",
    "                 num_actions,\n",
    "                 learning_rate,\n",
    "                 gamma,\n",
    "                 epsilon_start,\n",
    "                 epsilon_end,\n",
    "                 epsilon_decay_steps,\n",
    "                 epsilon_exponential_decay,\n",
    "                 replay_capacity,\n",
    "                 architecture,\n",
    "                 l2_reg,\n",
    "                 tau,\n",
    "                 batch_size,\n",
    "                 train,\n",
    "                 ticker):\n",
    "\n",
    "        self.state_dim = state_dim\n",
    "        self.num_actions = num_actions\n",
    "        self.experience = deque([], maxlen=replay_capacity)\n",
    "        self.learning_rate = learning_rate\n",
    "        self.gamma = gamma\n",
    "        self.architecture = architecture\n",
    "        self.l2_reg = l2_reg\n",
    "        self.ticker = ticker\n",
    "\n",
    "        self.online_network = self.build_model()\n",
    "        self.target_network = self.build_model(trainable=False)\n",
    "        self.update_target()\n",
    "\n",
    "        if(not train):\n",
    "            self.epsilon = 0.0\n",
    "        else:\n",
    "            self.epsilon = epsilon_start\n",
    "        self.epsilon_decay_steps = epsilon_decay_steps\n",
    "        self.epsilon_decay = (epsilon_start - epsilon_end) / epsilon_decay_steps\n",
    "        self.epsilon_exponential_decay = epsilon_exponential_decay\n",
    "        self.epsilon_history = []\n",
    "\n",
    "        self.total_steps = self.train_steps = 0\n",
    "        self.episodes = self.episode_length = self.train_episodes = 0\n",
    "        self.steps_per_episode = []\n",
    "        self.episode_reward = 0\n",
    "        self.rewards_history = []\n",
    "\n",
    "        self.batch_size = batch_size\n",
    "        self.tau = tau\n",
    "        self.losses = []\n",
    "        self.idx = tf.range(batch_size)\n",
    "        self.train = train\n",
    "\n",
    "    def build_model(self, trainable=True):\n",
    "        layers = []\n",
    "        n = len(self.architecture)\n",
    "        for i, units in enumerate(self.architecture, 1):\n",
    "            layers.append(Dense(units=units,\n",
    "                                input_dim=self.state_dim if i == 1 else None,\n",
    "                                activation='relu',\n",
    "                                kernel_regularizer=l2(self.l2_reg),\n",
    "                                name=f'Dense_{i}',\n",
    "                                trainable=trainable))\n",
    "        layers.append(Dropout(.1))\n",
    "        layers.append(Dense(units=self.num_actions,\n",
    "                            trainable=trainable,\n",
    "                            name='Output'))\n",
    "        model = Sequential(layers)\n",
    "        model.compile(loss='mean_squared_error',\n",
    "                      optimizer=Adam(lr=self.learning_rate))\n",
    "        return model\n",
    "\n",
    "    def update_target(self):\n",
    "        self.target_network.set_weights(self.online_network.get_weights())\n",
    "\n",
    "    def load_model_weights(self, model_weights_filepath):\n",
    "        self.online_network.load_weights(model_weights_filepath)\n",
    "        print('Model weights loaded from: ' + model_weights_filepath)\n",
    "    \n",
    "    def save_model_weights(self, folder_id):\n",
    "        model_weights_filepath = 'weights/{0}/model_{1}.h5'.format(folder_id, self.ticker)\n",
    "        if(not Path('weights/{0}'.format(folder_id)).exists()):\n",
    "            Path('weights/{0}'.format(folder_id)).mkdir(parents=True)\n",
    "        self.online_network.save_weights(model_weights_filepath)\n",
    "        print('Model weights saved at: ' + model_weights_filepath)\n",
    "\n",
    "    def epsilon_greedy_policy(self, state):\n",
    "        self.total_steps += 1\n",
    "        if np.random.rand() <= self.epsilon:\n",
    "            return np.random.choice(self.num_actions)\n",
    "        q = self.online_network.predict(state, verbose=0)\n",
    "        return np.argmax(q, axis=1).squeeze()\n",
    "\n",
    "    def memorize_transition(self, s, a, r, s_prime, not_done):\n",
    "        if not_done:\n",
    "            self.episode_reward += r\n",
    "            self.episode_length += 1\n",
    "        else:\n",
    "            if self.episodes < self.epsilon_decay_steps:\n",
    "                self.epsilon -= self.epsilon_decay\n",
    "            else:\n",
    "                self.epsilon *= self.epsilon_exponential_decay\n",
    "\n",
    "            self.episodes += 1\n",
    "            self.rewards_history.append(self.episode_reward)\n",
    "            self.steps_per_episode.append(self.episode_length)\n",
    "            self.episode_reward, self.episode_length = 0, 0\n",
    "\n",
    "        self.experience.append((s, a, r, s_prime, not_done))\n",
    "\n",
    "    def experience_replay(self):\n",
    "        if self.batch_size > len(self.experience):\n",
    "            return\n",
    "        minibatch = map(np.array, zip(*sample(self.experience, self.batch_size)))\n",
    "        states, actions, rewards, next_states, not_done = minibatch\n",
    "\n",
    "        next_q_values = self.online_network.predict_on_batch(next_states)\n",
    "        best_actions = tf.argmax(next_q_values, axis=1)\n",
    "\n",
    "        next_q_values_target = self.target_network.predict_on_batch(next_states)\n",
    "        target_q_values = tf.gather_nd(next_q_values_target,\n",
    "                                       tf.stack((self.idx, tf.cast(best_actions, tf.int32)), axis=1))\n",
    "\n",
    "        targets = rewards + not_done * self.gamma * target_q_values\n",
    "\n",
    "        q_values = self.online_network.predict_on_batch(states)\n",
    "        q_values[(self.idx, actions)] = targets\n",
    "\n",
    "        loss = self.online_network.train_on_batch(x=states, y=q_values)\n",
    "        self.losses.append(loss)\n",
    "\n",
    "        if self.total_steps % self.tau == 0:\n",
    "            self.update_target()"
   ]
  },
  {
   "cell_type": "markdown",
   "metadata": {},
   "source": [
    "## Define hyperparameters"
   ]
  },
  {
   "cell_type": "code",
   "execution_count": 20,
   "metadata": {
    "ExecuteTime": {
     "end_time": "2021-02-25T06:20:32.575368Z",
     "start_time": "2021-02-25T06:20:32.565067Z"
    }
   },
   "outputs": [],
   "source": [
    "gamma = .99,  # discount factor\n",
    "tau = 100  # target network update frequency"
   ]
  },
  {
   "cell_type": "markdown",
   "metadata": {},
   "source": [
    "### NN Architecture"
   ]
  },
  {
   "cell_type": "code",
   "execution_count": 21,
   "metadata": {
    "ExecuteTime": {
     "end_time": "2021-02-25T06:20:32.584925Z",
     "start_time": "2021-02-25T06:20:32.576469Z"
    }
   },
   "outputs": [],
   "source": [
    "architecture = (256, 256)  # units per layer\n",
    "learning_rate = 0.0001  # learning rate\n",
    "l2_reg = 1e-6  # L2 regularization"
   ]
  },
  {
   "cell_type": "markdown",
   "metadata": {},
   "source": [
    "### Experience Replay"
   ]
  },
  {
   "cell_type": "code",
   "execution_count": 22,
   "metadata": {
    "ExecuteTime": {
     "end_time": "2021-02-25T06:20:32.593134Z",
     "start_time": "2021-02-25T06:20:32.586645Z"
    }
   },
   "outputs": [],
   "source": [
    "replay_capacity = int(1e3)\n",
    "batch_size = 4096"
   ]
  },
  {
   "cell_type": "markdown",
   "metadata": {},
   "source": [
    "### $\\epsilon$-greedy Policy"
   ]
  },
  {
   "cell_type": "code",
   "execution_count": 23,
   "metadata": {
    "ExecuteTime": {
     "end_time": "2021-02-25T06:20:32.603464Z",
     "start_time": "2021-02-25T06:20:32.594606Z"
    }
   },
   "outputs": [],
   "source": [
    "epsilon_start = 1.0\n",
    "epsilon_end = .01\n",
    "epsilon_decay_steps = 250\n",
    "epsilon_exponential_decay = .99"
   ]
  },
  {
   "cell_type": "markdown",
   "metadata": {},
   "source": [
    "### Trainable"
   ]
  },
  {
   "cell_type": "code",
   "execution_count": 24,
   "metadata": {},
   "outputs": [],
   "source": [
    "train = False\n",
    "pickup = False # If train = False, set this variable to False as well. If train = True, it can be either True or False."
   ]
  },
  {
   "cell_type": "markdown",
   "metadata": {},
   "source": [
    "## Create DDQN Agent"
   ]
  },
  {
   "cell_type": "code",
   "execution_count": 25,
   "metadata": {
    "ExecuteTime": {
     "end_time": "2021-02-25T06:20:32.613239Z",
     "start_time": "2021-02-25T06:20:32.604766Z"
    }
   },
   "outputs": [],
   "source": [
    "tf.keras.backend.clear_session()"
   ]
  },
  {
   "cell_type": "code",
   "execution_count": 26,
   "metadata": {
    "ExecuteTime": {
     "end_time": "2021-02-25T06:20:32.720879Z",
     "start_time": "2021-02-25T06:20:32.614703Z"
    }
   },
   "outputs": [],
   "source": [
    "ddqn = {ticker: DDQNAgent(state_dim=state_dim,\n",
    "                 num_actions=num_actions,\n",
    "                 learning_rate=learning_rate,\n",
    "                 gamma=gamma,\n",
    "                 epsilon_start=epsilon_start,\n",
    "                 epsilon_end=epsilon_end,\n",
    "                 epsilon_decay_steps=epsilon_decay_steps,\n",
    "                 epsilon_exponential_decay=epsilon_exponential_decay,\n",
    "                 replay_capacity=replay_capacity,\n",
    "                 architecture=architecture,\n",
    "                 l2_reg=l2_reg,\n",
    "                 tau=tau,\n",
    "                 batch_size=batch_size,\n",
    "                 train=train,\n",
    "                 ticker=ticker) for ticker in tickers}"
   ]
  },
  {
   "cell_type": "markdown",
   "metadata": {},
   "source": [
    "## Run Experiment"
   ]
  },
  {
   "cell_type": "markdown",
   "metadata": {},
   "source": [
    "### Set parameters"
   ]
  },
  {
   "cell_type": "code",
   "execution_count": 27,
   "metadata": {
    "ExecuteTime": {
     "end_time": "2021-02-25T06:20:32.733088Z",
     "start_time": "2021-02-25T06:20:32.727071Z"
    }
   },
   "outputs": [],
   "source": [
    "total_steps = 0\n",
    "max_episodes = 200"
   ]
  },
  {
   "cell_type": "markdown",
   "metadata": {},
   "source": [
    "### Initialize variables"
   ]
  },
  {
   "cell_type": "markdown",
   "metadata": {},
   "source": [
    "These variables will keep track of the agent results at the end of every episode"
   ]
  },
  {
   "cell_type": "code",
   "execution_count": 28,
   "metadata": {
    "ExecuteTime": {
     "end_time": "2021-02-25T06:20:32.741126Z",
     "start_time": "2021-02-25T06:20:32.734309Z"
    }
   },
   "outputs": [],
   "source": [
    "episode_time = []\n",
    "navs = {ticker: [] for ticker in tickers}\n",
    "market_navs = {ticker: [] for ticker in tickers}\n",
    "diffs = {ticker: [] for ticker in tickers}\n",
    "episode_eps = {ticker: [] for ticker in tickers}"
   ]
  },
  {
   "cell_type": "markdown",
   "metadata": {},
   "source": [
    "### Load model weights"
   ]
  },
  {
   "cell_type": "code",
   "execution_count": 29,
   "metadata": {},
   "outputs": [
    {
     "name": "stdout",
     "output_type": "stream",
     "text": [
      "Model weights loaded from: weights/training2/model_AAPL.h5\n"
     ]
    }
   ],
   "source": [
    "folder_id = 'training2'\n",
    "model_weights_filepaths = {ticker: 'weights/{0}/model_{1}.h5'.format(folder_id, ticker) for ticker in tickers}\n",
    "if(not train or pickup):\n",
    "    for ticker in tickers:\n",
    "        ddqn[ticker].load_model_weights(model_weights_filepaths[ticker])"
   ]
  },
  {
   "cell_type": "markdown",
   "metadata": {},
   "source": [
    "### Modify epsilon start and episodes"
   ]
  },
  {
   "cell_type": "code",
   "execution_count": null,
   "metadata": {},
   "outputs": [],
   "source": [
    "if(pickup):\n",
    "    trained_episodes = max(list(map(lambda dir: int(dir[8:]), os.listdir(\"weights\"))))*max_episodes\n",
    "    epsilon_decay_trained_episodes = trained_episodes if trained_episodes <= epsilon_decay_steps else epsilon_decay_steps\n",
    "    epsilon_exponential_decay_trained_episodes = trained_episodes - epsilon_decay_steps if (trained_episodes - epsilon_decay_steps) > 0 else 0\n",
    "    new_epsilon_start = epsilon_start - ((epsilon_start - epsilon_end) / epsilon_decay_steps)*epsilon_decay_trained_episodes\n",
    "    for ticker in tickers:\n",
    "        ddqn[ticker].epsilon = new_epsilon_start\n",
    "        ddqn[ticker].episodes = trained_episodes\n",
    "    "
   ]
  },
  {
   "cell_type": "markdown",
   "metadata": {},
   "source": [
    "### Visualization"
   ]
  },
  {
   "cell_type": "code",
   "execution_count": 30,
   "metadata": {
    "ExecuteTime": {
     "end_time": "2021-02-25T06:20:32.752721Z",
     "start_time": "2021-02-25T06:20:32.742471Z"
    }
   },
   "outputs": [],
   "source": [
    "def track_results(episode, nav_ma_100, nav_ma_10,\n",
    "                  market_nav_100, market_nav_10,\n",
    "                  win_ratio, total, epsilon, ticker):\n",
    "    time_ma = np.mean([episode_time[-100:]])\n",
    "    T = np.sum(episode_time)\n",
    "    \n",
    "    template = '{:>4d} | {} | Agent: {:>6.1%} ({:>6.1%}) | '\n",
    "    template += 'Market: {:>6.1%} ({:>6.1%}) | '\n",
    "    template += 'Wins: {:>5.1%} | eps: {:>6.3f} | {}'\n",
    "    print(template.format(episode, format_time(total), \n",
    "                          nav_ma_100-1, nav_ma_10-1, \n",
    "                          market_nav_100-1, market_nav_10-1, \n",
    "                          win_ratio, epsilon, ticker))"
   ]
  },
  {
   "cell_type": "markdown",
   "metadata": {},
   "source": [
    "## Train Agent"
   ]
  },
  {
   "cell_type": "code",
   "execution_count": 31,
   "metadata": {
    "ExecuteTime": {
     "start_time": "2021-02-25T06:20:28.016Z"
    }
   },
   "outputs": [
    {
     "name": "stdout",
     "output_type": "stream",
     "text": [
      "  10 | 00:02:03 | Agent:   3.2% (  3.2%) | Market:  39.8% ( 39.8%) | Wins: 30.0% | eps:  0.000 | AAPL\n",
      "---------------------------------------------------------------------------------------------------------\n",
      "  20 | 00:04:08 | Agent:  13.3% ( 23.3%) | Market:  47.4% ( 55.0%) | Wins: 25.0% | eps:  0.000 | AAPL\n",
      "---------------------------------------------------------------------------------------------------------\n",
      "  30 | 00:06:17 | Agent:   7.1% ( -5.2%) | Market:  40.5% ( 26.9%) | Wins: 30.0% | eps:  0.000 | AAPL\n",
      "---------------------------------------------------------------------------------------------------------\n",
      "  40 | 00:08:25 | Agent:   4.3% ( -4.3%) | Market:  38.7% ( 33.1%) | Wins: 30.0% | eps:  0.000 | AAPL\n",
      "---------------------------------------------------------------------------------------------------------\n",
      "  50 | 00:10:37 | Agent:   5.8% ( 12.2%) | Market:  40.2% ( 46.1%) | Wins: 28.0% | eps:  0.000 | AAPL\n",
      "---------------------------------------------------------------------------------------------------------\n",
      "  60 | 00:12:46 | Agent:  14.1% ( 55.2%) | Market:  46.9% ( 80.5%) | Wins: 26.7% | eps:  0.000 | AAPL\n",
      "---------------------------------------------------------------------------------------------------------\n",
      "  70 | 00:14:58 | Agent:  16.2% ( 28.8%) | Market:  44.9% ( 32.7%) | Wins: 28.6% | eps:  0.000 | AAPL\n",
      "---------------------------------------------------------------------------------------------------------\n",
      "  80 | 00:17:13 | Agent:  16.2% ( 16.4%) | Market:  40.1% (  6.6%) | Wins: 31.2% | eps:  0.000 | AAPL\n",
      "---------------------------------------------------------------------------------------------------------\n",
      "  90 | 00:19:28 | Agent:  13.4% ( -8.8%) | Market:  37.8% ( 19.5%) | Wins: 32.2% | eps:  0.000 | AAPL\n",
      "---------------------------------------------------------------------------------------------------------\n",
      " 100 | 00:21:45 | Agent:   9.6% (-24.6%) | Market:  33.1% ( -8.9%) | Wins: 32.0% | eps:  0.000 | AAPL\n",
      "---------------------------------------------------------------------------------------------------------\n",
      " 110 | 00:24:02 | Agent:   8.6% ( -6.7%) | Market:  29.3% (  1.2%) | Wins: 35.0% | eps:  0.000 | AAPL\n",
      "---------------------------------------------------------------------------------------------------------\n",
      " 120 | 00:26:24 | Agent:   9.0% ( 27.6%) | Market:  29.6% ( 58.3%) | Wins: 35.0% | eps:  0.000 | AAPL\n",
      "---------------------------------------------------------------------------------------------------------\n",
      " 130 | 00:28:44 | Agent:  10.1% (  4.9%) | Market:  31.6% ( 46.7%) | Wins: 33.0% | eps:  0.000 | AAPL\n",
      "---------------------------------------------------------------------------------------------------------\n",
      " 140 | 00:31:12 | Agent:  11.3% (  8.0%) | Market:  32.6% ( 43.6%) | Wins: 31.0% | eps:  0.000 | AAPL\n",
      "---------------------------------------------------------------------------------------------------------\n",
      " 150 | 00:33:42 | Agent:  10.9% (  8.5%) | Market:  32.8% ( 48.1%) | Wins: 30.0% | eps:  0.000 | AAPL\n",
      "---------------------------------------------------------------------------------------------------------\n"
     ]
    },
    {
     "ename": "KeyboardInterrupt",
     "evalue": "",
     "output_type": "error",
     "traceback": [
      "\u001b[1;31m---------------------------------------------------------------------------\u001b[0m",
      "\u001b[1;31mKeyboardInterrupt\u001b[0m                         Traceback (most recent call last)",
      "Input \u001b[1;32mIn [31]\u001b[0m, in \u001b[0;36m<cell line: 3>\u001b[1;34m()\u001b[0m\n\u001b[0;32m      6\u001b[0m actions \u001b[38;5;241m=\u001b[39m {}\n\u001b[0;32m      7\u001b[0m \u001b[38;5;28;01mfor\u001b[39;00m ticker \u001b[38;5;129;01min\u001b[39;00m tickers:\n\u001b[1;32m----> 8\u001b[0m     action \u001b[38;5;241m=\u001b[39m \u001b[43mddqn\u001b[49m\u001b[43m[\u001b[49m\u001b[43mticker\u001b[49m\u001b[43m]\u001b[49m\u001b[38;5;241;43m.\u001b[39;49m\u001b[43mepsilon_greedy_policy\u001b[49m\u001b[43m(\u001b[49m\u001b[43mcurrent_states\u001b[49m\u001b[43m[\u001b[49m\u001b[43mticker\u001b[49m\u001b[43m]\u001b[49m\u001b[38;5;241;43m.\u001b[39;49m\u001b[43mreshape\u001b[49m\u001b[43m(\u001b[49m\u001b[38;5;241;43m-\u001b[39;49m\u001b[38;5;241;43m1\u001b[39;49m\u001b[43m,\u001b[49m\u001b[43m \u001b[49m\u001b[43mstate_dim\u001b[49m\u001b[43m)\u001b[49m\u001b[43m)\u001b[49m\n\u001b[0;32m      9\u001b[0m     actions[ticker] \u001b[38;5;241m=\u001b[39m action\n\u001b[0;32m     11\u001b[0m next_states, rewards, done, _ \u001b[38;5;241m=\u001b[39m trading_environment\u001b[38;5;241m.\u001b[39mstep(actions)\n",
      "Input \u001b[1;32mIn [19]\u001b[0m, in \u001b[0;36mDDQNAgent.epsilon_greedy_policy\u001b[1;34m(self, state)\u001b[0m\n\u001b[0;32m     87\u001b[0m \u001b[38;5;28;01mif\u001b[39;00m np\u001b[38;5;241m.\u001b[39mrandom\u001b[38;5;241m.\u001b[39mrand() \u001b[38;5;241m<\u001b[39m\u001b[38;5;241m=\u001b[39m \u001b[38;5;28mself\u001b[39m\u001b[38;5;241m.\u001b[39mepsilon:\n\u001b[0;32m     88\u001b[0m     \u001b[38;5;28;01mreturn\u001b[39;00m np\u001b[38;5;241m.\u001b[39mrandom\u001b[38;5;241m.\u001b[39mchoice(\u001b[38;5;28mself\u001b[39m\u001b[38;5;241m.\u001b[39mnum_actions)\n\u001b[1;32m---> 89\u001b[0m q \u001b[38;5;241m=\u001b[39m \u001b[38;5;28;43mself\u001b[39;49m\u001b[38;5;241;43m.\u001b[39;49m\u001b[43monline_network\u001b[49m\u001b[38;5;241;43m.\u001b[39;49m\u001b[43mpredict\u001b[49m\u001b[43m(\u001b[49m\u001b[43mstate\u001b[49m\u001b[43m,\u001b[49m\u001b[43m \u001b[49m\u001b[43mverbose\u001b[49m\u001b[38;5;241;43m=\u001b[39;49m\u001b[38;5;241;43m0\u001b[39;49m\u001b[43m)\u001b[49m\n\u001b[0;32m     90\u001b[0m \u001b[38;5;28;01mreturn\u001b[39;00m np\u001b[38;5;241m.\u001b[39margmax(q, axis\u001b[38;5;241m=\u001b[39m\u001b[38;5;241m1\u001b[39m)\u001b[38;5;241m.\u001b[39msqueeze()\n",
      "File \u001b[1;32m~\\AppData\\Local\\Programs\\Python\\Python310\\lib\\site-packages\\keras\\utils\\traceback_utils.py:65\u001b[0m, in \u001b[0;36mfilter_traceback.<locals>.error_handler\u001b[1;34m(*args, **kwargs)\u001b[0m\n\u001b[0;32m     63\u001b[0m filtered_tb \u001b[38;5;241m=\u001b[39m \u001b[38;5;28;01mNone\u001b[39;00m\n\u001b[0;32m     64\u001b[0m \u001b[38;5;28;01mtry\u001b[39;00m:\n\u001b[1;32m---> 65\u001b[0m     \u001b[38;5;28;01mreturn\u001b[39;00m fn(\u001b[38;5;241m*\u001b[39margs, \u001b[38;5;241m*\u001b[39m\u001b[38;5;241m*\u001b[39mkwargs)\n\u001b[0;32m     66\u001b[0m \u001b[38;5;28;01mexcept\u001b[39;00m \u001b[38;5;167;01mException\u001b[39;00m \u001b[38;5;28;01mas\u001b[39;00m e:\n\u001b[0;32m     67\u001b[0m     filtered_tb \u001b[38;5;241m=\u001b[39m _process_traceback_frames(e\u001b[38;5;241m.\u001b[39m__traceback__)\n",
      "File \u001b[1;32m~\\AppData\\Local\\Programs\\Python\\Python310\\lib\\site-packages\\keras\\engine\\training.py:2249\u001b[0m, in \u001b[0;36mModel.predict\u001b[1;34m(self, x, batch_size, verbose, steps, callbacks, max_queue_size, workers, use_multiprocessing)\u001b[0m\n\u001b[0;32m   2247\u001b[0m callbacks\u001b[38;5;241m.\u001b[39mon_predict_begin()\n\u001b[0;32m   2248\u001b[0m batch_outputs \u001b[38;5;241m=\u001b[39m \u001b[38;5;28;01mNone\u001b[39;00m\n\u001b[1;32m-> 2249\u001b[0m \u001b[38;5;28;01mfor\u001b[39;00m _, iterator \u001b[38;5;129;01min\u001b[39;00m data_handler\u001b[38;5;241m.\u001b[39menumerate_epochs():  \u001b[38;5;66;03m# Single epoch.\u001b[39;00m\n\u001b[0;32m   2250\u001b[0m     \u001b[38;5;28;01mwith\u001b[39;00m data_handler\u001b[38;5;241m.\u001b[39mcatch_stop_iteration():\n\u001b[0;32m   2251\u001b[0m         \u001b[38;5;28;01mfor\u001b[39;00m step \u001b[38;5;129;01min\u001b[39;00m data_handler\u001b[38;5;241m.\u001b[39msteps():\n",
      "File \u001b[1;32m~\\AppData\\Local\\Programs\\Python\\Python310\\lib\\site-packages\\keras\\engine\\data_adapter.py:1307\u001b[0m, in \u001b[0;36mDataHandler.enumerate_epochs\u001b[1;34m(self)\u001b[0m\n\u001b[0;32m   1305\u001b[0m \u001b[38;5;124;03m\"\"\"Yields `(epoch, tf.data.Iterator)`.\"\"\"\u001b[39;00m\n\u001b[0;32m   1306\u001b[0m \u001b[38;5;28;01mwith\u001b[39;00m \u001b[38;5;28mself\u001b[39m\u001b[38;5;241m.\u001b[39m_truncate_execution_to_epoch():\n\u001b[1;32m-> 1307\u001b[0m     data_iterator \u001b[38;5;241m=\u001b[39m \u001b[38;5;28;43miter\u001b[39;49m\u001b[43m(\u001b[49m\u001b[38;5;28;43mself\u001b[39;49m\u001b[38;5;241;43m.\u001b[39;49m\u001b[43m_dataset\u001b[49m\u001b[43m)\u001b[49m\n\u001b[0;32m   1308\u001b[0m     \u001b[38;5;28;01mfor\u001b[39;00m epoch \u001b[38;5;129;01min\u001b[39;00m \u001b[38;5;28mrange\u001b[39m(\u001b[38;5;28mself\u001b[39m\u001b[38;5;241m.\u001b[39m_initial_epoch, \u001b[38;5;28mself\u001b[39m\u001b[38;5;241m.\u001b[39m_epochs):\n\u001b[0;32m   1309\u001b[0m         \u001b[38;5;28;01mif\u001b[39;00m \u001b[38;5;28mself\u001b[39m\u001b[38;5;241m.\u001b[39m_insufficient_data:  \u001b[38;5;66;03m# Set by `catch_stop_iteration`.\u001b[39;00m\n",
      "File \u001b[1;32m~\\AppData\\Local\\Programs\\Python\\Python310\\lib\\site-packages\\tensorflow\\python\\data\\ops\\dataset_ops.py:499\u001b[0m, in \u001b[0;36mDatasetV2.__iter__\u001b[1;34m(self)\u001b[0m\n\u001b[0;32m    497\u001b[0m \u001b[38;5;28;01mif\u001b[39;00m context\u001b[38;5;241m.\u001b[39mexecuting_eagerly() \u001b[38;5;129;01mor\u001b[39;00m ops\u001b[38;5;241m.\u001b[39minside_function():\n\u001b[0;32m    498\u001b[0m   \u001b[38;5;28;01mwith\u001b[39;00m ops\u001b[38;5;241m.\u001b[39mcolocate_with(\u001b[38;5;28mself\u001b[39m\u001b[38;5;241m.\u001b[39m_variant_tensor):\n\u001b[1;32m--> 499\u001b[0m     \u001b[38;5;28;01mreturn\u001b[39;00m \u001b[43miterator_ops\u001b[49m\u001b[38;5;241;43m.\u001b[39;49m\u001b[43mOwnedIterator\u001b[49m\u001b[43m(\u001b[49m\u001b[38;5;28;43mself\u001b[39;49m\u001b[43m)\u001b[49m\n\u001b[0;32m    500\u001b[0m \u001b[38;5;28;01melse\u001b[39;00m:\n\u001b[0;32m    501\u001b[0m   \u001b[38;5;28;01mraise\u001b[39;00m \u001b[38;5;167;01mRuntimeError\u001b[39;00m(\u001b[38;5;124m\"\u001b[39m\u001b[38;5;124m`tf.data.Dataset` only supports Python-style \u001b[39m\u001b[38;5;124m\"\u001b[39m\n\u001b[0;32m    502\u001b[0m                      \u001b[38;5;124m\"\u001b[39m\u001b[38;5;124miteration in eager mode or within tf.function.\u001b[39m\u001b[38;5;124m\"\u001b[39m)\n",
      "File \u001b[1;32m~\\AppData\\Local\\Programs\\Python\\Python310\\lib\\site-packages\\tensorflow\\python\\data\\ops\\iterator_ops.py:696\u001b[0m, in \u001b[0;36mOwnedIterator.__init__\u001b[1;34m(self, dataset, components, element_spec)\u001b[0m\n\u001b[0;32m    692\u001b[0m   \u001b[38;5;28;01mif\u001b[39;00m (components \u001b[38;5;129;01mis\u001b[39;00m \u001b[38;5;129;01mnot\u001b[39;00m \u001b[38;5;28;01mNone\u001b[39;00m \u001b[38;5;129;01mor\u001b[39;00m element_spec \u001b[38;5;129;01mis\u001b[39;00m \u001b[38;5;129;01mnot\u001b[39;00m \u001b[38;5;28;01mNone\u001b[39;00m):\n\u001b[0;32m    693\u001b[0m     \u001b[38;5;28;01mraise\u001b[39;00m \u001b[38;5;167;01mValueError\u001b[39;00m(\n\u001b[0;32m    694\u001b[0m         \u001b[38;5;124m\"\u001b[39m\u001b[38;5;124mWhen `dataset` is provided, `element_spec` and `components` must \u001b[39m\u001b[38;5;124m\"\u001b[39m\n\u001b[0;32m    695\u001b[0m         \u001b[38;5;124m\"\u001b[39m\u001b[38;5;124mnot be specified.\u001b[39m\u001b[38;5;124m\"\u001b[39m)\n\u001b[1;32m--> 696\u001b[0m   \u001b[38;5;28;43mself\u001b[39;49m\u001b[38;5;241;43m.\u001b[39;49m\u001b[43m_create_iterator\u001b[49m\u001b[43m(\u001b[49m\u001b[43mdataset\u001b[49m\u001b[43m)\u001b[49m\n\u001b[0;32m    698\u001b[0m \u001b[38;5;28mself\u001b[39m\u001b[38;5;241m.\u001b[39m_get_next_call_count \u001b[38;5;241m=\u001b[39m \u001b[38;5;241m0\u001b[39m\n",
      "File \u001b[1;32m~\\AppData\\Local\\Programs\\Python\\Python310\\lib\\site-packages\\tensorflow\\python\\data\\ops\\iterator_ops.py:721\u001b[0m, in \u001b[0;36mOwnedIterator._create_iterator\u001b[1;34m(self, dataset)\u001b[0m\n\u001b[0;32m    716\u001b[0m \u001b[38;5;28;01mwith\u001b[39;00m ops\u001b[38;5;241m.\u001b[39mcolocate_with(ds_variant):\n\u001b[0;32m    717\u001b[0m   \u001b[38;5;28mself\u001b[39m\u001b[38;5;241m.\u001b[39m_iterator_resource \u001b[38;5;241m=\u001b[39m (\n\u001b[0;32m    718\u001b[0m       gen_dataset_ops\u001b[38;5;241m.\u001b[39manonymous_iterator_v3(\n\u001b[0;32m    719\u001b[0m           output_types\u001b[38;5;241m=\u001b[39m\u001b[38;5;28mself\u001b[39m\u001b[38;5;241m.\u001b[39m_flat_output_types,\n\u001b[0;32m    720\u001b[0m           output_shapes\u001b[38;5;241m=\u001b[39m\u001b[38;5;28mself\u001b[39m\u001b[38;5;241m.\u001b[39m_flat_output_shapes))\n\u001b[1;32m--> 721\u001b[0m   \u001b[43mgen_dataset_ops\u001b[49m\u001b[38;5;241;43m.\u001b[39;49m\u001b[43mmake_iterator\u001b[49m\u001b[43m(\u001b[49m\u001b[43mds_variant\u001b[49m\u001b[43m,\u001b[49m\u001b[43m \u001b[49m\u001b[38;5;28;43mself\u001b[39;49m\u001b[38;5;241;43m.\u001b[39;49m\u001b[43m_iterator_resource\u001b[49m\u001b[43m)\u001b[49m\n",
      "File \u001b[1;32m~\\AppData\\Local\\Programs\\Python\\Python310\\lib\\site-packages\\tensorflow\\python\\ops\\gen_dataset_ops.py:3408\u001b[0m, in \u001b[0;36mmake_iterator\u001b[1;34m(dataset, iterator, name)\u001b[0m\n\u001b[0;32m   3406\u001b[0m \u001b[38;5;28;01mif\u001b[39;00m tld\u001b[38;5;241m.\u001b[39mis_eager:\n\u001b[0;32m   3407\u001b[0m   \u001b[38;5;28;01mtry\u001b[39;00m:\n\u001b[1;32m-> 3408\u001b[0m     _result \u001b[38;5;241m=\u001b[39m \u001b[43mpywrap_tfe\u001b[49m\u001b[38;5;241;43m.\u001b[39;49m\u001b[43mTFE_Py_FastPathExecute\u001b[49m\u001b[43m(\u001b[49m\n\u001b[0;32m   3409\u001b[0m \u001b[43m      \u001b[49m\u001b[43m_ctx\u001b[49m\u001b[43m,\u001b[49m\u001b[43m \u001b[49m\u001b[38;5;124;43m\"\u001b[39;49m\u001b[38;5;124;43mMakeIterator\u001b[39;49m\u001b[38;5;124;43m\"\u001b[39;49m\u001b[43m,\u001b[49m\u001b[43m \u001b[49m\u001b[43mname\u001b[49m\u001b[43m,\u001b[49m\u001b[43m \u001b[49m\u001b[43mdataset\u001b[49m\u001b[43m,\u001b[49m\u001b[43m \u001b[49m\u001b[43miterator\u001b[49m\u001b[43m)\u001b[49m\n\u001b[0;32m   3410\u001b[0m     \u001b[38;5;28;01mreturn\u001b[39;00m _result\n\u001b[0;32m   3411\u001b[0m   \u001b[38;5;28;01mexcept\u001b[39;00m _core\u001b[38;5;241m.\u001b[39m_NotOkStatusException \u001b[38;5;28;01mas\u001b[39;00m e:\n",
      "\u001b[1;31mKeyboardInterrupt\u001b[0m: "
     ]
    }
   ],
   "source": [
    "start = time()\n",
    "results = []\n",
    "for episode in range(1, max_episodes + 1):\n",
    "    current_states = trading_environment.reset()\n",
    "    for episode_step in range(max_episode_steps):\n",
    "        actions = {}\n",
    "        for ticker in tickers:\n",
    "            action = ddqn[ticker].epsilon_greedy_policy(current_states[ticker].reshape(-1, state_dim))\n",
    "            actions[ticker] = action\n",
    "        \n",
    "        next_states, rewards, done, _ = trading_environment.step(actions)\n",
    "        \n",
    "        if train:\n",
    "            for ticker in tickers:\n",
    "                ddqn[ticker].memorize_transition(current_states[ticker], \n",
    "                                        actions[ticker], \n",
    "                                        rewards[ticker], \n",
    "                                        next_states[ticker], \n",
    "                                        0.0 if done else 1.0)\n",
    "                ddqn[ticker].experience_replay()\n",
    "        if done:\n",
    "            break\n",
    "        current_states = next_states.copy()\n",
    "\n",
    "    # get DataFrame with seqence of actions, returns and nav values\n",
    "    result = trading_environment.env.simulator.result()\n",
    "    \n",
    "    for ticker in tickers:\n",
    "        # get results of last step\n",
    "        final = pd.DataFrame({c: [result[c][ticker][-1]] for c in result.columns}).iloc[0]\n",
    "\n",
    "        # apply return (net of cost) of last action to last starting nav \n",
    "        nav = final.nav * (1 + final.strategy_return)\n",
    "        navs[ticker].append(nav)\n",
    "\n",
    "        # market nav \n",
    "        market_nav = final.market_nav\n",
    "        market_navs[ticker].append(market_nav)\n",
    "\n",
    "        # track difference between agent an market NAV results\n",
    "        diff = nav - market_nav\n",
    "        diffs[ticker].append(diff)\n",
    "    \n",
    "        if episode % 10 == 0:\n",
    "            track_results(episode, \n",
    "                        # show mov. average results for 100 (10) periods\n",
    "                        np.mean(navs[ticker][-100:]), \n",
    "                        np.mean(navs[ticker][-10:]), \n",
    "                        np.mean(market_navs[ticker][-100:]), \n",
    "                        np.mean(market_navs[ticker][-10:]), \n",
    "                        # share of agent wins, defined as higher ending nav\n",
    "                        np.sum([s > 0 for s in diffs[ticker][-100:]])/min(len(diffs[ticker]), 100), \n",
    "                        time() - start, ddqn[ticker].epsilon, ticker)\n",
    "        if len(diffs[ticker]) > 25 and all([r > 0 for r in diffs[ticker][-25:]]):\n",
    "            print(result.tail())\n",
    "            break\n",
    "    if episode % 10 == 0:\n",
    "        print(\"---------------------------------------------------------------------------------------------------------\")\n",
    "\n",
    "trading_environment.close()"
   ]
  },
  {
   "cell_type": "markdown",
   "metadata": {},
   "source": [
    "### Save trained model"
   ]
  },
  {
   "cell_type": "code",
   "execution_count": null,
   "metadata": {},
   "outputs": [],
   "source": [
    "if(train):\n",
    "    # folder_id = ''.join(choice(string.digits + string.ascii_lowercase) for i in range(10))\n",
    "    folder_id = None\n",
    "    if(len(os.listdir(\"weights\")) == 0):\n",
    "        folder_id = 'training1'\n",
    "    else:\n",
    "        folder_id = 'training{0}'.format(max(list(map(lambda dir: int(dir[8:]), os.listdir(\"weights\")))) + 1)\n",
    "    for ticker in tickers:\n",
    "        ddqn[ticker].save_model_weights(folder_id)"
   ]
  },
  {
   "cell_type": "markdown",
   "metadata": {},
   "source": [
    "## Results"
   ]
  },
  {
   "cell_type": "code",
   "execution_count": null,
   "metadata": {
    "ExecuteTime": {
     "start_time": "2021-02-25T06:20:28.020Z"
    }
   },
   "outputs": [],
   "source": [
    "for ticker in tickers:\n",
    "    results = pd.DataFrame({'Episode': list(range(1, episode+1)),\n",
    "                            'Agent': navs[ticker],\n",
    "                            'Market': market_navs[ticker],\n",
    "                            'Difference': diffs[ticker]}).set_index('Episode')\n",
    "\n",
    "    results['Strategy Wins (%)'] = (results.Difference > 0).rolling(int(max_episodes*0.10)).sum()\n",
    "\n",
    "    results.to_csv(results_path / 'results_{0}.csv'.format(ticker), index=False)\n",
    "    \n",
    "    # Evaluate results\n",
    "    fig, axes = plt.subplots(ncols=2, figsize=(14, 4), sharey=True)\n",
    "\n",
    "    df1 = (results[['Agent', 'Market']]\n",
    "        .sub(1)\n",
    "        .rolling(int(max_episodes*0.10))\n",
    "        .mean())\n",
    "    df1.plot(ax=axes[0],\n",
    "            title='Annual Returns (Moving Average) - {0}'.format(ticker),\n",
    "            lw=1)\n",
    "\n",
    "    df2 = results['Strategy Wins (%)'].div(int(max_episodes*0.10)).rolling(int(max_episodes*0.05)).mean()\n",
    "    df2.plot(ax=axes[1],\n",
    "            title='Agent Outperformance (%, Moving Average) - {0}'.format(ticker))\n",
    "\n",
    "    for ax in axes:\n",
    "        ax.yaxis.set_major_formatter(\n",
    "            FuncFormatter(lambda y, _: '{:.0%}'.format(y)))\n",
    "        ax.xaxis.set_major_formatter(\n",
    "            FuncFormatter(lambda x, _: '{:,.0f}'.format(x)))\n",
    "    axes[1].axhline(.5, ls='--', c='k', lw=1)\n",
    "\n",
    "    sns.despine()\n",
    "    fig.tight_layout()\n",
    "    fig.savefig(results_path / 'performance_{0}'.format(ticker), dpi=300)"
   ]
  }
 ],
 "metadata": {
  "kernelspec": {
   "display_name": "Python 3 (ipykernel)",
   "language": "python",
   "name": "python3"
  },
  "language_info": {
   "codemirror_mode": {
    "name": "ipython",
    "version": 3
   },
   "file_extension": ".py",
   "mimetype": "text/x-python",
   "name": "python",
   "nbconvert_exporter": "python",
   "pygments_lexer": "ipython3",
   "version": "3.10.4"
  },
  "toc": {
   "base_numbering": 1,
   "nav_menu": {},
   "number_sections": true,
   "sideBar": true,
   "skip_h1_title": true,
   "title_cell": "Table of Contents",
   "title_sidebar": "Contents",
   "toc_cell": false,
   "toc_position": {
    "height": "calc(100% - 180px)",
    "left": "10px",
    "top": "150px",
    "width": "230.906px"
   },
   "toc_section_display": true,
   "toc_window_display": true
  },
  "vscode": {
   "interpreter": {
    "hash": "2b7e42a4a8cf5b82c85f822eec3e755ac44be55f3eeb742e372e8aa7fb014abb"
   }
  }
 },
 "nbformat": 4,
 "nbformat_minor": 4
}
