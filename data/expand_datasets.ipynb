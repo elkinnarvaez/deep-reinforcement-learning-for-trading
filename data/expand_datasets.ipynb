{
 "cells": [
  {
   "attachments": {},
   "cell_type": "markdown",
   "metadata": {},
   "source": [
    "# Expand dataset"
   ]
  },
  {
   "cell_type": "code",
   "execution_count": 2,
   "metadata": {},
   "outputs": [],
   "source": [
    "import sys\n",
    "import http.client\n",
    "import requests\n",
    "import json\n",
    "import datetime\n",
    "import statistics as stats\n",
    "import pandas as pd\n",
    "import matplotlib.pyplot as plt\n",
    "import seaborn as sns\n",
    "import math\n",
    "import random\n",
    "import talib\n",
    "import numpy as np\n",
    "\n",
    "# Gym stuff\n",
    "import gym\n",
    "import gym_anytrading\n",
    "from gym_anytrading.envs import StocksEnv\n",
    "\n",
    "# Stable baselines - RL stuff\n",
    "from stable_baselines3.common.vec_env import DummyVecEnv\n",
    "from stable_baselines3 import A2C\n",
    "from stable_baselines3 import DDPG\n",
    "from stable_baselines3 import DQN\n",
    "from stable_baselines3 import PPO"
   ]
  },
  {
   "cell_type": "code",
   "execution_count": 3,
   "metadata": {},
   "outputs": [],
   "source": [
    "constituent_symbols = ['AAPL', 'MSFT', 'AMZN', 'GOOGL', 'PEP', 'KO']"
   ]
  },
  {
   "cell_type": "code",
   "execution_count": 4,
   "metadata": {},
   "outputs": [],
   "source": [
    "conn = http.client.HTTPSConnection(\"yh-finance.p.rapidapi.com\")\n",
    "\n",
    "headers = {\n",
    "    'X-RapidAPI-Key': \"1ae05dcbfcmshf19fbd6d5f7d966p1aa148jsnb1eaf3cab955\",\n",
    "    'X-RapidAPI-Host': \"yh-finance.p.rapidapi.com\"\n",
    "}"
   ]
  },
  {
   "attachments": {},
   "cell_type": "markdown",
   "metadata": {},
   "source": [
    "## Retrieve data from YH Finance API"
   ]
  },
  {
   "cell_type": "code",
   "execution_count": 5,
   "metadata": {},
   "outputs": [
    {
     "name": "stdout",
     "output_type": "stream",
     "text": [
      "Progress: 0%\n",
      "Progress: 16%\n",
      "Progress: 33%\n",
      "Progress: 50%\n",
      "Progress: 66%\n",
      "Progress: 83%\n"
     ]
    }
   ],
   "source": [
    "indicators = {}\n",
    "progress = 0\n",
    "for symbol in constituent_symbols:\n",
    "    print(f\"Progress: {math.floor((progress*100)/len(constituent_symbols))}%\")\n",
    "    \n",
    "    conn.request(\"GET\", f\"/stock/v2/get-chart?interval=1d&symbol={symbol}&range=%20&region=US&period1=1522195200&period2=1672531200\", headers=headers)\n",
    "    # conn.request(\"GET\", f\"/stock/v3/get-chart?interval=1d&symbol={symbol}&range=%20&region=US&period1=1522195200&period2=1672531200&includePrePost=true&useYfid=true&includeAdjustedClose=true&events=capitalGain%2Cdiv%2Csplit\", headers=headers)\n",
    "    res = conn.getresponse()\n",
    "    data = res.read()\n",
    "\n",
    "    result = json.loads(data.decode(\"utf-8\"))[\"chart\"][\"result\"][0]\n",
    "    indicators[symbol] = {\n",
    "        \"date\": list(map(lambda x: datetime.datetime.fromtimestamp(x).date(), result[\"timestamp\"])),\n",
    "        \"high\": result[\"indicators\"][\"quote\"][0][\"high\"],\n",
    "        \"volume\": result[\"indicators\"][\"quote\"][0][\"volume\"],\n",
    "        \"open\": result[\"indicators\"][\"quote\"][0][\"open\"],\n",
    "        \"low\": result[\"indicators\"][\"quote\"][0][\"low\"],\n",
    "        \"close\": result[\"indicators\"][\"quote\"][0][\"close\"],\n",
    "        \"adj_close\": result[\"indicators\"][\"adjclose\"][0][\"adjclose\"]\n",
    "    }\n",
    "    \n",
    "    progress += 1"
   ]
  },
  {
   "cell_type": "code",
   "execution_count": 6,
   "metadata": {},
   "outputs": [],
   "source": [
    "dfs = {}\n",
    "for symbol in constituent_symbols:\n",
    "    dfs[symbol] = pd.DataFrame(indicators[symbol])"
   ]
  },
  {
   "attachments": {},
   "cell_type": "markdown",
   "metadata": {},
   "source": [
    "### Store data locally"
   ]
  },
  {
   "cell_type": "code",
   "execution_count": 7,
   "metadata": {},
   "outputs": [
    {
     "name": "stdout",
     "output_type": "stream",
     "text": [
      "Progress: 0%\n",
      "Progress: 16%\n",
      "Progress: 33%\n",
      "Progress: 50%\n",
      "Progress: 66%\n",
      "Progress: 83%\n",
      "Progress: 100%\n"
     ]
    }
   ],
   "source": [
    "progress = 0\n",
    "for symbol in constituent_symbols:\n",
    "    print(f\"Progress: {math.floor((progress*100)/len(constituent_symbols))}%\")\n",
    "    \n",
    "    f = open(f\"extended_data/{symbol}.csv\", \"w\")\n",
    "    f.write(dfs[symbol].to_csv(index=False))\n",
    "    f.close()\n",
    "\n",
    "    progress += 1\n",
    "print(f\"Progress: {100}%\")"
   ]
  },
  {
   "attachments": {},
   "cell_type": "markdown",
   "metadata": {},
   "source": [
    "## Retrieve data from local storage"
   ]
  },
  {
   "cell_type": "code",
   "execution_count": null,
   "metadata": {},
   "outputs": [],
   "source": [
    "dfs = {}\n",
    "progress = 0\n",
    "for symbol in constituent_symbols:\n",
    "    print(f\"Progress: {math.floor((progress*100)/len(constituent_symbols))}%\")\n",
    "\n",
    "    dfs[symbol] = pd.read_csv(f\"extended_data/stocks/{symbol}.csv\")\n",
    "    date = dfs[symbol]['date']\n",
    "    dfs[symbol] = dfs[symbol].drop(['date'], axis = 1)\n",
    "    dfs[symbol]['date'] = date.map(lambda x: datetime.datetime.strptime(x, '%Y-%m-%d %H:%M:%S'))\n",
    "\n",
    "    progress += 1\n",
    "print(f\"Progress: {100}%\")"
   ]
  }
 ],
 "metadata": {
  "kernelspec": {
   "display_name": "Python 3",
   "language": "python",
   "name": "python3"
  },
  "language_info": {
   "codemirror_mode": {
    "name": "ipython",
    "version": 3
   },
   "file_extension": ".py",
   "mimetype": "text/x-python",
   "name": "python",
   "nbconvert_exporter": "python",
   "pygments_lexer": "ipython3",
   "version": "3.10.4"
  },
  "orig_nbformat": 4
 },
 "nbformat": 4,
 "nbformat_minor": 2
}
