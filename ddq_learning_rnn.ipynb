{
 "cells": [
  {
   "cell_type": "markdown",
   "metadata": {},
   "source": [
    "# Deep Q-learning for trading"
   ]
  },
  {
   "cell_type": "markdown",
   "metadata": {},
   "source": [
    "## Imports, Settings & Helpers"
   ]
  },
  {
   "cell_type": "markdown",
   "metadata": {},
   "source": [
    "### Imports"
   ]
  },
  {
   "cell_type": "code",
   "execution_count": 1,
   "metadata": {
    "ExecuteTime": {
     "end_time": "2021-11-16T04:10:21.897529Z",
     "start_time": "2021-11-16T04:10:21.892603Z"
    }
   },
   "outputs": [],
   "source": [
    "import warnings\n",
    "warnings.filterwarnings('ignore')"
   ]
  },
  {
   "cell_type": "code",
   "execution_count": 2,
   "metadata": {
    "ExecuteTime": {
     "end_time": "2021-11-16T04:10:23.441506Z",
     "start_time": "2021-11-16T04:10:21.898569Z"
    }
   },
   "outputs": [],
   "source": [
    "%matplotlib inline\n",
    "from pathlib import Path\n",
    "from time import time\n",
    "from collections import deque\n",
    "from random import sample, choice\n",
    "import string\n",
    "\n",
    "import numpy as np\n",
    "import pandas as pd\n",
    "\n",
    "import matplotlib.pyplot as plt\n",
    "from matplotlib.ticker import FuncFormatter\n",
    "import seaborn as sns\n",
    "\n",
    "import tensorflow as tf\n",
    "from tensorflow.keras import Sequential\n",
    "from tensorflow.keras.layers import Dense, Dropout, SimpleRNN, Embedding\n",
    "from tensorflow.keras.optimizers import Adam\n",
    "from tensorflow.keras.regularizers import l2\n",
    "\n",
    "import gym\n",
    "from gym.envs.registration import register"
   ]
  },
  {
   "cell_type": "markdown",
   "metadata": {},
   "source": [
    "### Settings"
   ]
  },
  {
   "cell_type": "code",
   "execution_count": 3,
   "metadata": {
    "ExecuteTime": {
     "end_time": "2021-11-16T04:10:24.669692Z",
     "start_time": "2021-11-16T04:10:24.664510Z"
    }
   },
   "outputs": [],
   "source": [
    "np.random.seed(42)\n",
    "tf.random.set_seed(42)"
   ]
  },
  {
   "cell_type": "code",
   "execution_count": 4,
   "metadata": {
    "ExecuteTime": {
     "end_time": "2021-11-16T04:10:24.791466Z",
     "start_time": "2021-11-16T04:10:24.786681Z"
    }
   },
   "outputs": [],
   "source": [
    "sns.set_style('whitegrid')"
   ]
  },
  {
   "cell_type": "code",
   "execution_count": 5,
   "metadata": {
    "ExecuteTime": {
     "end_time": "2021-11-16T04:10:25.000425Z",
     "start_time": "2021-11-16T04:10:24.926689Z"
    }
   },
   "outputs": [
    {
     "name": "stdout",
     "output_type": "stream",
     "text": [
      "Using GPU\n"
     ]
    }
   ],
   "source": [
    "gpu_devices = tf.config.experimental.list_physical_devices('GPU')\n",
    "if gpu_devices:\n",
    "    print('Using GPU')\n",
    "    tf.config.experimental.set_memory_growth(gpu_devices[0], True)\n",
    "else:\n",
    "    print('Using CPU')"
   ]
  },
  {
   "cell_type": "code",
   "execution_count": 6,
   "metadata": {
    "ExecuteTime": {
     "end_time": "2021-11-16T04:10:25.033871Z",
     "start_time": "2021-11-16T04:10:25.031449Z"
    }
   },
   "outputs": [],
   "source": [
    "results_path = Path('results', 'trading_bot')\n",
    "if not results_path.exists():\n",
    "    results_path.mkdir(parents=True)"
   ]
  },
  {
   "cell_type": "markdown",
   "metadata": {},
   "source": [
    "### Helper functions"
   ]
  },
  {
   "cell_type": "code",
   "execution_count": 7,
   "metadata": {
    "ExecuteTime": {
     "end_time": "2021-11-16T04:10:30.326477Z",
     "start_time": "2021-11-16T04:10:30.324003Z"
    }
   },
   "outputs": [],
   "source": [
    "def format_time(t):\n",
    "    m_, s = divmod(t, 60)\n",
    "    h, m = divmod(m_, 60)\n",
    "    return '{:02.0f}:{:02.0f}:{:02.0f}'.format(h, m, s)"
   ]
  },
  {
   "cell_type": "markdown",
   "metadata": {},
   "source": [
    "## Set up Gym Environment"
   ]
  },
  {
   "cell_type": "markdown",
   "metadata": {},
   "source": [
    "### Register Trading Environment"
   ]
  },
  {
   "cell_type": "code",
   "execution_count": 8,
   "metadata": {
    "ExecuteTime": {
     "end_time": "2021-11-16T04:10:31.011029Z",
     "start_time": "2021-11-16T04:10:31.004868Z"
    }
   },
   "outputs": [],
   "source": [
    "trading_days = 252"
   ]
  },
  {
   "cell_type": "code",
   "execution_count": 9,
   "metadata": {
    "ExecuteTime": {
     "end_time": "2021-11-16T04:10:31.167371Z",
     "start_time": "2021-11-16T04:10:31.162398Z"
    }
   },
   "outputs": [],
   "source": [
    "register(\n",
    "    id='trading-v0',\n",
    "    entry_point='trading_env:TradingEnvironment',\n",
    "    max_episode_steps=trading_days\n",
    ")"
   ]
  },
  {
   "cell_type": "markdown",
   "metadata": {},
   "source": [
    "### Initialize Trading Environment"
   ]
  },
  {
   "cell_type": "code",
   "execution_count": 10,
   "metadata": {
    "ExecuteTime": {
     "end_time": "2021-11-16T04:10:33.062989Z",
     "start_time": "2021-11-16T04:10:33.061026Z"
    }
   },
   "outputs": [],
   "source": [
    "trading_cost_bps = 1e-3\n",
    "time_cost_bps = 1e-4"
   ]
  },
  {
   "cell_type": "code",
   "execution_count": 11,
   "metadata": {},
   "outputs": [],
   "source": [
    "start_date = '2010-01-01'\n",
    "end_date = '2018-03-20'"
   ]
  },
  {
   "cell_type": "code",
   "execution_count": 12,
   "metadata": {},
   "outputs": [],
   "source": [
    "tickers = ['AAPL']"
   ]
  },
  {
   "cell_type": "code",
   "execution_count": 13,
   "metadata": {
    "ExecuteTime": {
     "end_time": "2021-11-16T04:14:48.346878Z",
     "start_time": "2021-11-16T04:14:46.084768Z"
    }
   },
   "outputs": [
    {
     "name": "stderr",
     "output_type": "stream",
     "text": [
      "INFO:trading_env:trading_env logger started.\n",
      "INFO:trading_env:loading data for AAPL...\n",
      "INFO:trading_env:got data for AAPL...\n",
      "INFO:trading_env:preprocessing data for AAPL...\n",
      "INFO:trading_env:finished preprocessing for AAPL...\n"
     ]
    },
    {
     "data": {
      "text/plain": [
       "[42]"
      ]
     },
     "execution_count": 13,
     "metadata": {},
     "output_type": "execute_result"
    }
   ],
   "source": [
    "trading_environment = gym.make('trading-v0', \n",
    "                               tickers=tickers,\n",
    "                               trading_days=trading_days,\n",
    "                               trading_cost_bps=trading_cost_bps,\n",
    "                               time_cost_bps=time_cost_bps,\n",
    "                               start_date=start_date,\n",
    "                               end_date=end_date)\n",
    "trading_environment.seed(42)"
   ]
  },
  {
   "cell_type": "markdown",
   "metadata": {},
   "source": [
    "### Get Environment Params"
   ]
  },
  {
   "cell_type": "code",
   "execution_count": 14,
   "metadata": {
    "ExecuteTime": {
     "end_time": "2021-02-25T06:20:32.548145Z",
     "start_time": "2021-02-25T06:20:32.545830Z"
    }
   },
   "outputs": [],
   "source": [
    "state_dim = trading_environment.observation_space.shape[0]\n",
    "num_actions = trading_environment.action_space.n\n",
    "max_episode_steps = trading_environment.spec.max_episode_steps"
   ]
  },
  {
   "cell_type": "markdown",
   "metadata": {},
   "source": [
    "## Data understanding"
   ]
  },
  {
   "cell_type": "code",
   "execution_count": 15,
   "metadata": {},
   "outputs": [],
   "source": [
    "df = trading_environment.data_source.data"
   ]
  },
  {
   "cell_type": "markdown",
   "metadata": {},
   "source": [
    "### Full data set"
   ]
  },
  {
   "cell_type": "code",
   "execution_count": 16,
   "metadata": {},
   "outputs": [
    {
     "data": {
      "text/html": [
       "<div>\n",
       "<style scoped>\n",
       "    .dataframe tbody tr th:only-of-type {\n",
       "        vertical-align: middle;\n",
       "    }\n",
       "\n",
       "    .dataframe tbody tr th {\n",
       "        vertical-align: top;\n",
       "    }\n",
       "\n",
       "    .dataframe thead th {\n",
       "        text-align: right;\n",
       "    }\n",
       "</style>\n",
       "<table border=\"1\" class=\"dataframe\">\n",
       "  <thead>\n",
       "    <tr style=\"text-align: right;\">\n",
       "      <th></th>\n",
       "      <th></th>\n",
       "      <th>returns</th>\n",
       "      <th>ret_2</th>\n",
       "      <th>ret_5</th>\n",
       "      <th>ret_10</th>\n",
       "      <th>ret_21</th>\n",
       "      <th>rsi</th>\n",
       "      <th>macd</th>\n",
       "      <th>atr</th>\n",
       "      <th>stoch</th>\n",
       "      <th>ultosc</th>\n",
       "      <th>bbp</th>\n",
       "      <th>obv</th>\n",
       "      <th>adx</th>\n",
       "    </tr>\n",
       "    <tr>\n",
       "      <th>date</th>\n",
       "      <th>ticker</th>\n",
       "      <th></th>\n",
       "      <th></th>\n",
       "      <th></th>\n",
       "      <th></th>\n",
       "      <th></th>\n",
       "      <th></th>\n",
       "      <th></th>\n",
       "      <th></th>\n",
       "      <th></th>\n",
       "      <th></th>\n",
       "      <th></th>\n",
       "      <th></th>\n",
       "      <th></th>\n",
       "    </tr>\n",
       "  </thead>\n",
       "  <tbody>\n",
       "    <tr>\n",
       "      <th>2010-02-22</th>\n",
       "      <th>AAPL</th>\n",
       "      <td>-0.006218</td>\n",
       "      <td>-0.639123</td>\n",
       "      <td>-0.144441</td>\n",
       "      <td>0.291012</td>\n",
       "      <td>-0.820227</td>\n",
       "      <td>-0.282595</td>\n",
       "      <td>-0.744691</td>\n",
       "      <td>-1.472485</td>\n",
       "      <td>1.419000</td>\n",
       "      <td>0.756052</td>\n",
       "      <td>-1.582043</td>\n",
       "      <td>-2.844524</td>\n",
       "      <td>-0.401087</td>\n",
       "    </tr>\n",
       "    <tr>\n",
       "      <th>2010-02-23</th>\n",
       "      <th>AAPL</th>\n",
       "      <td>-0.016750</td>\n",
       "      <td>-1.100732</td>\n",
       "      <td>-1.014938</td>\n",
       "      <td>0.086340</td>\n",
       "      <td>-0.361491</td>\n",
       "      <td>-1.167737</td>\n",
       "      <td>-0.712394</td>\n",
       "      <td>-1.462827</td>\n",
       "      <td>1.967483</td>\n",
       "      <td>-0.010730</td>\n",
       "      <td>-1.702626</td>\n",
       "      <td>-3.017091</td>\n",
       "      <td>-0.403016</td>\n",
       "    </tr>\n",
       "    <tr>\n",
       "      <th>2010-02-24</th>\n",
       "      <th>AAPL</th>\n",
       "      <td>0.018253</td>\n",
       "      <td>-0.041435</td>\n",
       "      <td>-0.409033</td>\n",
       "      <td>0.239081</td>\n",
       "      <td>-0.477448</td>\n",
       "      <td>-0.845093</td>\n",
       "      <td>-0.681908</td>\n",
       "      <td>-1.469827</td>\n",
       "      <td>0.881042</td>\n",
       "      <td>-0.115041</td>\n",
       "      <td>-0.084059</td>\n",
       "      <td>-2.878890</td>\n",
       "      <td>-0.408192</td>\n",
       "    </tr>\n",
       "    <tr>\n",
       "      <th>2010-02-25</th>\n",
       "      <th>AAPL</th>\n",
       "      <td>0.006698</td>\n",
       "      <td>1.009700</td>\n",
       "      <td>-0.276390</td>\n",
       "      <td>0.489884</td>\n",
       "      <td>-0.576906</td>\n",
       "      <td>0.132019</td>\n",
       "      <td>-0.651473</td>\n",
       "      <td>-1.455847</td>\n",
       "      <td>-1.088606</td>\n",
       "      <td>0.292090</td>\n",
       "      <td>0.671177</td>\n",
       "      <td>-2.679308</td>\n",
       "      <td>-0.457135</td>\n",
       "    </tr>\n",
       "    <tr>\n",
       "      <th>2010-02-26</th>\n",
       "      <th>AAPL</th>\n",
       "      <td>0.012970</td>\n",
       "      <td>0.775556</td>\n",
       "      <td>0.256683</td>\n",
       "      <td>0.383047</td>\n",
       "      <td>-0.529646</td>\n",
       "      <td>1.109132</td>\n",
       "      <td>-0.618219</td>\n",
       "      <td>-1.478955</td>\n",
       "      <td>-2.135355</td>\n",
       "      <td>0.498064</td>\n",
       "      <td>1.154086</td>\n",
       "      <td>-2.527035</td>\n",
       "      <td>-0.568718</td>\n",
       "    </tr>\n",
       "    <tr>\n",
       "      <th>...</th>\n",
       "      <th>...</th>\n",
       "      <td>...</td>\n",
       "      <td>...</td>\n",
       "      <td>...</td>\n",
       "      <td>...</td>\n",
       "      <td>...</td>\n",
       "      <td>...</td>\n",
       "      <td>...</td>\n",
       "      <td>...</td>\n",
       "      <td>...</td>\n",
       "      <td>...</td>\n",
       "      <td>...</td>\n",
       "      <td>...</td>\n",
       "      <td>...</td>\n",
       "    </tr>\n",
       "    <tr>\n",
       "      <th>2018-03-14</th>\n",
       "      <th>AAPL</th>\n",
       "      <td>-0.008501</td>\n",
       "      <td>-0.888784</td>\n",
       "      <td>0.391459</td>\n",
       "      <td>-0.181005</td>\n",
       "      <td>1.018401</td>\n",
       "      <td>-0.000086</td>\n",
       "      <td>1.227974</td>\n",
       "      <td>2.545501</td>\n",
       "      <td>1.323553</td>\n",
       "      <td>-0.210158</td>\n",
       "      <td>-0.649510</td>\n",
       "      <td>0.490180</td>\n",
       "      <td>-0.936016</td>\n",
       "    </tr>\n",
       "    <tr>\n",
       "      <th>2018-03-15</th>\n",
       "      <th>AAPL</th>\n",
       "      <td>0.001177</td>\n",
       "      <td>-0.417054</td>\n",
       "      <td>0.118880</td>\n",
       "      <td>0.200884</td>\n",
       "      <td>0.886162</td>\n",
       "      <td>-0.932429</td>\n",
       "      <td>1.268920</td>\n",
       "      <td>2.413349</td>\n",
       "      <td>1.981065</td>\n",
       "      <td>-0.284139</td>\n",
       "      <td>-0.938741</td>\n",
       "      <td>0.517288</td>\n",
       "      <td>-0.929406</td>\n",
       "    </tr>\n",
       "    <tr>\n",
       "      <th>2018-03-16</th>\n",
       "      <th>AAPL</th>\n",
       "      <td>-0.003526</td>\n",
       "      <td>-0.197776</td>\n",
       "      <td>-0.451769</td>\n",
       "      <td>-0.011198</td>\n",
       "      <td>0.563206</td>\n",
       "      <td>-1.503181</td>\n",
       "      <td>1.279964</td>\n",
       "      <td>2.223450</td>\n",
       "      <td>1.775749</td>\n",
       "      <td>-0.348638</td>\n",
       "      <td>-0.987258</td>\n",
       "      <td>0.473074</td>\n",
       "      <td>-0.937652</td>\n",
       "    </tr>\n",
       "    <tr>\n",
       "      <th>2018-03-19</th>\n",
       "      <th>AAPL</th>\n",
       "      <td>-0.015279</td>\n",
       "      <td>-0.919689</td>\n",
       "      <td>-1.130266</td>\n",
       "      <td>-0.389231</td>\n",
       "      <td>-0.129404</td>\n",
       "      <td>-1.503181</td>\n",
       "      <td>1.237550</td>\n",
       "      <td>2.333952</td>\n",
       "      <td>0.995031</td>\n",
       "      <td>-0.740734</td>\n",
       "      <td>-1.689211</td>\n",
       "      <td>0.433700</td>\n",
       "      <td>-1.015431</td>\n",
       "    </tr>\n",
       "    <tr>\n",
       "      <th>2018-03-20</th>\n",
       "      <th>AAPL</th>\n",
       "      <td>-0.000342</td>\n",
       "      <td>-0.781650</td>\n",
       "      <td>-0.879097</td>\n",
       "      <td>-0.379170</td>\n",
       "      <td>-0.088861</td>\n",
       "      <td>-1.547951</td>\n",
       "      <td>1.159559</td>\n",
       "      <td>2.185830</td>\n",
       "      <td>0.178723</td>\n",
       "      <td>-1.311049</td>\n",
       "      <td>-1.193222</td>\n",
       "      <td>0.410518</td>\n",
       "      <td>-1.087656</td>\n",
       "    </tr>\n",
       "  </tbody>\n",
       "</table>\n",
       "<p>2032 rows × 13 columns</p>\n",
       "</div>"
      ],
      "text/plain": [
       "                    returns     ret_2     ret_5    ret_10    ret_21       rsi  \\\n",
       "date       ticker                                                               \n",
       "2010-02-22 AAPL   -0.006218 -0.639123 -0.144441  0.291012 -0.820227 -0.282595   \n",
       "2010-02-23 AAPL   -0.016750 -1.100732 -1.014938  0.086340 -0.361491 -1.167737   \n",
       "2010-02-24 AAPL    0.018253 -0.041435 -0.409033  0.239081 -0.477448 -0.845093   \n",
       "2010-02-25 AAPL    0.006698  1.009700 -0.276390  0.489884 -0.576906  0.132019   \n",
       "2010-02-26 AAPL    0.012970  0.775556  0.256683  0.383047 -0.529646  1.109132   \n",
       "...                     ...       ...       ...       ...       ...       ...   \n",
       "2018-03-14 AAPL   -0.008501 -0.888784  0.391459 -0.181005  1.018401 -0.000086   \n",
       "2018-03-15 AAPL    0.001177 -0.417054  0.118880  0.200884  0.886162 -0.932429   \n",
       "2018-03-16 AAPL   -0.003526 -0.197776 -0.451769 -0.011198  0.563206 -1.503181   \n",
       "2018-03-19 AAPL   -0.015279 -0.919689 -1.130266 -0.389231 -0.129404 -1.503181   \n",
       "2018-03-20 AAPL   -0.000342 -0.781650 -0.879097 -0.379170 -0.088861 -1.547951   \n",
       "\n",
       "                       macd       atr     stoch    ultosc       bbp       obv  \\\n",
       "date       ticker                                                               \n",
       "2010-02-22 AAPL   -0.744691 -1.472485  1.419000  0.756052 -1.582043 -2.844524   \n",
       "2010-02-23 AAPL   -0.712394 -1.462827  1.967483 -0.010730 -1.702626 -3.017091   \n",
       "2010-02-24 AAPL   -0.681908 -1.469827  0.881042 -0.115041 -0.084059 -2.878890   \n",
       "2010-02-25 AAPL   -0.651473 -1.455847 -1.088606  0.292090  0.671177 -2.679308   \n",
       "2010-02-26 AAPL   -0.618219 -1.478955 -2.135355  0.498064  1.154086 -2.527035   \n",
       "...                     ...       ...       ...       ...       ...       ...   \n",
       "2018-03-14 AAPL    1.227974  2.545501  1.323553 -0.210158 -0.649510  0.490180   \n",
       "2018-03-15 AAPL    1.268920  2.413349  1.981065 -0.284139 -0.938741  0.517288   \n",
       "2018-03-16 AAPL    1.279964  2.223450  1.775749 -0.348638 -0.987258  0.473074   \n",
       "2018-03-19 AAPL    1.237550  2.333952  0.995031 -0.740734 -1.689211  0.433700   \n",
       "2018-03-20 AAPL    1.159559  2.185830  0.178723 -1.311049 -1.193222  0.410518   \n",
       "\n",
       "                        adx  \n",
       "date       ticker            \n",
       "2010-02-22 AAPL   -0.401087  \n",
       "2010-02-23 AAPL   -0.403016  \n",
       "2010-02-24 AAPL   -0.408192  \n",
       "2010-02-25 AAPL   -0.457135  \n",
       "2010-02-26 AAPL   -0.568718  \n",
       "...                     ...  \n",
       "2018-03-14 AAPL   -0.936016  \n",
       "2018-03-15 AAPL   -0.929406  \n",
       "2018-03-16 AAPL   -0.937652  \n",
       "2018-03-19 AAPL   -1.015431  \n",
       "2018-03-20 AAPL   -1.087656  \n",
       "\n",
       "[2032 rows x 13 columns]"
      ]
     },
     "execution_count": 16,
     "metadata": {},
     "output_type": "execute_result"
    }
   ],
   "source": [
    "df"
   ]
  },
  {
   "cell_type": "code",
   "execution_count": 17,
   "metadata": {},
   "outputs": [
    {
     "name": "stdout",
     "output_type": "stream",
     "text": [
      "--- Shape ---\n",
      "Number of records: 2032\n",
      "Number of attributes: 13\n",
      "\n",
      "--- Types ---\n",
      "returns    float64\n",
      "ret_2      float64\n",
      "ret_5      float64\n",
      "ret_10     float64\n",
      "ret_21     float64\n",
      "rsi        float64\n",
      "macd       float64\n",
      "atr        float64\n",
      "stoch      float64\n",
      "ultosc     float64\n",
      "bbp        float64\n",
      "obv        float64\n",
      "adx        float64\n",
      "dtype: object\n",
      "\n",
      "--- Statistical measures for each attribute ---\n",
      "           returns         ret_2         ret_5        ret_10        ret_21  \\\n",
      "count  2032.000000  2.032000e+03  2.032000e+03  2.032000e+03  2.032000e+03   \n",
      "mean      0.001067 -3.933861e-18  2.272898e-17  3.496765e-18 -6.993531e-18   \n",
      "std       0.015843  1.000246e+00  1.000246e+00  1.000246e+00  1.000246e+00   \n",
      "min      -0.123549 -6.442942e+00 -3.617858e+00 -3.417642e+00 -2.913519e+00   \n",
      "25%      -0.006745 -5.288239e-01 -6.282082e-01 -6.503854e-01 -6.574893e-01   \n",
      "50%       0.000833  7.242677e-03  3.232401e-02  1.275353e-02 -2.482618e-02   \n",
      "75%       0.009605  5.755875e-01  6.110239e-01  6.585891e-01  6.654253e-01   \n",
      "max       0.088741  3.864895e+00  3.769510e+00  2.900872e+00  2.939431e+00   \n",
      "\n",
      "                rsi         macd          atr         stoch        ultosc  \\\n",
      "count  2.032000e+03  2032.000000  2032.000000  2.032000e+03  2.032000e+03   \n",
      "mean  -5.769663e-17     0.000000     0.000000 -9.179009e-18  1.049030e-17   \n",
      "std    1.000246e+00     1.000246     1.000246  1.000246e+00  1.000246e+00   \n",
      "min   -1.547951e+00    -2.990239    -1.718271 -2.646482e+00 -2.543068e+00   \n",
      "25%   -9.427466e-01    -0.531568    -0.643875 -6.527093e-01 -7.080315e-01   \n",
      "50%    6.498109e-02    -0.020441    -0.201010  1.777620e-02 -2.736448e-02   \n",
      "75%    9.591901e-01     0.592521     0.670725  6.718894e-01  7.397436e-01   \n",
      "max    1.383387e+00     2.616697     3.968425  2.599867e+00  2.554818e+00   \n",
      "\n",
      "                bbp           obv           adx  \n",
      "count  2.032000e+03  2.032000e+03  2.032000e+03  \n",
      "mean   1.923221e-17 -9.790943e-17 -1.398706e-17  \n",
      "std    1.000246e+00  1.000246e+00  1.000246e+00  \n",
      "min   -1.840594e+00 -3.017091e+00 -1.636028e+00  \n",
      "25%   -9.225515e-01 -5.119154e-01 -7.148355e-01  \n",
      "50%    1.726208e-01  1.065824e-01 -2.045522e-01  \n",
      "75%    8.844823e-01  5.784108e-01  4.942922e-01  \n",
      "max    1.582068e+00  3.879311e+00  3.865705e+00  \n",
      "\n",
      "--- Correlation ---\n"
     ]
    },
    {
     "data": {
      "image/png": "[encoded data removed]",
      "text/plain": [
       "<Figure size 1080x1080 with 2 Axes>"
      ]
     },
     "metadata": {},
     "output_type": "display_data"
    }
   ],
   "source": [
    "print(\"--- Shape ---\")\n",
    "print(\"Number of records:\", df.shape[0])\n",
    "print(\"Number of attributes:\", df.shape[1])\n",
    "print()\n",
    "print(\"--- Types ---\")\n",
    "print(df.dtypes)\n",
    "print()\n",
    "print(\"--- Statistical measures for each attribute ---\")\n",
    "print(df.describe())\n",
    "print()\n",
    "print(\"--- Correlation ---\")\n",
    "plt.figure(figsize=(15, 15))\n",
    "sns.heatmap(df.corr(), square=True, annot=True)\n",
    "plt.show()"
   ]
  },
  {
   "cell_type": "markdown",
   "metadata": {},
   "source": [
    "### Per ticker data sets"
   ]
  },
  {
   "cell_type": "code",
   "execution_count": 18,
   "metadata": {},
   "outputs": [
    {
     "name": "stdout",
     "output_type": "stream",
     "text": [
      "AAPL\n",
      "                    returns     ret_2     ret_5    ret_10    ret_21       rsi  \\\n",
      "date       ticker                                                               \n",
      "2010-02-22 AAPL   -0.006218 -0.639123 -0.144441  0.291012 -0.820227 -0.282595   \n",
      "2010-02-23 AAPL   -0.016750 -1.100732 -1.014938  0.086340 -0.361491 -1.167737   \n",
      "2010-02-24 AAPL    0.018253 -0.041435 -0.409033  0.239081 -0.477448 -0.845093   \n",
      "2010-02-25 AAPL    0.006698  1.009700 -0.276390  0.489884 -0.576906  0.132019   \n",
      "2010-02-26 AAPL    0.012970  0.775556  0.256683  0.383047 -0.529646  1.109132   \n",
      "...                     ...       ...       ...       ...       ...       ...   \n",
      "2018-03-14 AAPL   -0.008501 -0.888784  0.391459 -0.181005  1.018401 -0.000086   \n",
      "2018-03-15 AAPL    0.001177 -0.417054  0.118880  0.200884  0.886162 -0.932429   \n",
      "2018-03-16 AAPL   -0.003526 -0.197776 -0.451769 -0.011198  0.563206 -1.503181   \n",
      "2018-03-19 AAPL   -0.015279 -0.919689 -1.130266 -0.389231 -0.129404 -1.503181   \n",
      "2018-03-20 AAPL   -0.000342 -0.781650 -0.879097 -0.379170 -0.088861 -1.547951   \n",
      "\n",
      "                       macd       atr     stoch    ultosc       bbp       obv  \\\n",
      "date       ticker                                                               \n",
      "2010-02-22 AAPL   -0.744691 -1.472485  1.419000  0.756052 -1.582043 -2.844524   \n",
      "2010-02-23 AAPL   -0.712394 -1.462827  1.967483 -0.010730 -1.702626 -3.017091   \n",
      "2010-02-24 AAPL   -0.681908 -1.469827  0.881042 -0.115041 -0.084059 -2.878890   \n",
      "2010-02-25 AAPL   -0.651473 -1.455847 -1.088606  0.292090  0.671177 -2.679308   \n",
      "2010-02-26 AAPL   -0.618219 -1.478955 -2.135355  0.498064  1.154086 -2.527035   \n",
      "...                     ...       ...       ...       ...       ...       ...   \n",
      "2018-03-14 AAPL    1.227974  2.545501  1.323553 -0.210158 -0.649510  0.490180   \n",
      "2018-03-15 AAPL    1.268920  2.413349  1.981065 -0.284139 -0.938741  0.517288   \n",
      "2018-03-16 AAPL    1.279964  2.223450  1.775749 -0.348638 -0.987258  0.473074   \n",
      "2018-03-19 AAPL    1.237550  2.333952  0.995031 -0.740734 -1.689211  0.433700   \n",
      "2018-03-20 AAPL    1.159559  2.185830  0.178723 -1.311049 -1.193222  0.410518   \n",
      "\n",
      "                        adx  \n",
      "date       ticker            \n",
      "2010-02-22 AAPL   -0.401087  \n",
      "2010-02-23 AAPL   -0.403016  \n",
      "2010-02-24 AAPL   -0.408192  \n",
      "2010-02-25 AAPL   -0.457135  \n",
      "2010-02-26 AAPL   -0.568718  \n",
      "...                     ...  \n",
      "2018-03-14 AAPL   -0.936016  \n",
      "2018-03-15 AAPL   -0.929406  \n",
      "2018-03-16 AAPL   -0.937652  \n",
      "2018-03-19 AAPL   -1.015431  \n",
      "2018-03-20 AAPL   -1.087656  \n",
      "\n",
      "[2032 rows x 13 columns]\n",
      "--- Shape ---\n",
      "Number of records: 2032\n",
      "Number of attributes: 13\n",
      "\n",
      "--- Types ---\n",
      "returns    float64\n",
      "ret_2      float64\n",
      "ret_5      float64\n",
      "ret_10     float64\n",
      "ret_21     float64\n",
      "rsi        float64\n",
      "macd       float64\n",
      "atr        float64\n",
      "stoch      float64\n",
      "ultosc     float64\n",
      "bbp        float64\n",
      "obv        float64\n",
      "adx        float64\n",
      "dtype: object\n",
      "\n",
      "--- Statistical measures for each attribute ---\n",
      "           returns         ret_2         ret_5        ret_10        ret_21  \\\n",
      "count  2032.000000  2.032000e+03  2.032000e+03  2.032000e+03  2.032000e+03   \n",
      "mean      0.001067 -3.933861e-18  2.272898e-17  3.496765e-18 -6.993531e-18   \n",
      "std       0.015843  1.000246e+00  1.000246e+00  1.000246e+00  1.000246e+00   \n",
      "min      -0.123549 -6.442942e+00 -3.617858e+00 -3.417642e+00 -2.913519e+00   \n",
      "25%      -0.006745 -5.288239e-01 -6.282082e-01 -6.503854e-01 -6.574893e-01   \n",
      "50%       0.000833  7.242677e-03  3.232401e-02  1.275353e-02 -2.482618e-02   \n",
      "75%       0.009605  5.755875e-01  6.110239e-01  6.585891e-01  6.654253e-01   \n",
      "max       0.088741  3.864895e+00  3.769510e+00  2.900872e+00  2.939431e+00   \n",
      "\n",
      "                rsi         macd          atr         stoch        ultosc  \\\n",
      "count  2.032000e+03  2032.000000  2032.000000  2.032000e+03  2.032000e+03   \n",
      "mean  -5.769663e-17     0.000000     0.000000 -9.179009e-18  1.049030e-17   \n",
      "std    1.000246e+00     1.000246     1.000246  1.000246e+00  1.000246e+00   \n",
      "min   -1.547951e+00    -2.990239    -1.718271 -2.646482e+00 -2.543068e+00   \n",
      "25%   -9.427466e-01    -0.531568    -0.643875 -6.527093e-01 -7.080315e-01   \n",
      "50%    6.498109e-02    -0.020441    -0.201010  1.777620e-02 -2.736448e-02   \n",
      "75%    9.591901e-01     0.592521     0.670725  6.718894e-01  7.397436e-01   \n",
      "max    1.383387e+00     2.616697     3.968425  2.599867e+00  2.554818e+00   \n",
      "\n",
      "                bbp           obv           adx  \n",
      "count  2.032000e+03  2.032000e+03  2.032000e+03  \n",
      "mean   1.923221e-17 -9.790943e-17 -1.398706e-17  \n",
      "std    1.000246e+00  1.000246e+00  1.000246e+00  \n",
      "min   -1.840594e+00 -3.017091e+00 -1.636028e+00  \n",
      "25%   -9.225515e-01 -5.119154e-01 -7.148355e-01  \n",
      "50%    1.726208e-01  1.065824e-01 -2.045522e-01  \n",
      "75%    8.844823e-01  5.784108e-01  4.942922e-01  \n",
      "max    1.582068e+00  3.879311e+00  3.865705e+00  \n",
      "\n",
      "--- Correlation ---\n"
     ]
    },
    {
     "data": {
      "image/png": "[encoded data removed]",
      "text/plain": [
       "<Figure size 1080x1080 with 2 Axes>"
      ]
     },
     "metadata": {},
     "output_type": "display_data"
    }
   ],
   "source": [
    "for ticker in tickers:\n",
    "    print(ticker)\n",
    "    df_ticker = df.loc[(slice(None), ticker), :]\n",
    "    print(df_ticker)\n",
    "    print(\"--- Shape ---\")\n",
    "    print(\"Number of records:\", df_ticker.shape[0])\n",
    "    print(\"Number of attributes:\", df_ticker.shape[1])\n",
    "    print()\n",
    "    print(\"--- Types ---\")\n",
    "    print(df_ticker.dtypes)\n",
    "    print()\n",
    "    print(\"--- Statistical measures for each attribute ---\")\n",
    "    print(df_ticker.describe())\n",
    "    print()\n",
    "    print(\"--- Correlation ---\")\n",
    "    plt.figure(figsize=(15, 15))\n",
    "    sns.heatmap(df_ticker.corr(), square=True, annot=True)\n",
    "    plt.show()"
   ]
  },
  {
   "cell_type": "markdown",
   "metadata": {},
   "source": [
    "## Define Trading Agent"
   ]
  },
  {
   "cell_type": "code",
   "execution_count": 19,
   "metadata": {
    "ExecuteTime": {
     "end_time": "2021-02-25T06:20:32.563692Z",
     "start_time": "2021-02-25T06:20:32.549782Z"
    }
   },
   "outputs": [],
   "source": [
    "class DDQNAgent:\n",
    "    def __init__(self, state_dim,\n",
    "                 num_actions,\n",
    "                 learning_rate,\n",
    "                 gamma,\n",
    "                 epsilon_start,\n",
    "                 epsilon_end,\n",
    "                 epsilon_decay_steps,\n",
    "                 epsilon_exponential_decay,\n",
    "                 replay_capacity,\n",
    "                 architecture,\n",
    "                 l2_reg,\n",
    "                 tau,\n",
    "                 batch_size,\n",
    "                 train,\n",
    "                 ticker):\n",
    "\n",
    "        self.state_dim = state_dim\n",
    "        self.num_actions = num_actions\n",
    "        self.experience = deque([], maxlen=replay_capacity)\n",
    "        self.learning_rate = learning_rate\n",
    "        self.gamma = gamma\n",
    "        self.architecture = architecture\n",
    "        self.l2_reg = l2_reg\n",
    "        self.ticker = ticker\n",
    "\n",
    "        self.online_network = self.build_model()\n",
    "        self.target_network = self.build_model(trainable=False)\n",
    "        self.update_target()\n",
    "\n",
    "        if(not train):\n",
    "            self.epsilon = 0.0\n",
    "        else:\n",
    "            self.epsilon = epsilon_start\n",
    "        self.epsilon_decay_steps = epsilon_decay_steps\n",
    "        self.epsilon_decay = (epsilon_start - epsilon_end) / epsilon_decay_steps\n",
    "        self.epsilon_exponential_decay = epsilon_exponential_decay\n",
    "        self.epsilon_history = []\n",
    "\n",
    "        self.total_steps = self.train_steps = 0\n",
    "        self.episodes = self.episode_length = self.train_episodes = 0\n",
    "        self.steps_per_episode = []\n",
    "        self.episode_reward = 0\n",
    "        self.rewards_history = []\n",
    "\n",
    "        self.batch_size = batch_size\n",
    "        self.tau = tau\n",
    "        self.losses = []\n",
    "        self.idx = tf.range(batch_size)\n",
    "        self.train = train\n",
    "\n",
    "    def build_model(self, trainable=True):\n",
    "        layers = []\n",
    "        # n = len(self.architecture)\n",
    "        # for i, units in enumerate(self.architecture, 1):\n",
    "        #     layers.append(Dense(units=units,\n",
    "        #                         input_dim=self.state_dim if i == 1 else None,\n",
    "        #                         activation='relu',\n",
    "        #                         kernel_regularizer=l2(self.l2_reg),\n",
    "        #                         name=f'Dense_{i}',\n",
    "        #                         trainable=trainable))\n",
    "        layers.append(SimpleRNN(units=128, input_dim=self.state_dim))\n",
    "        layers.append(Dropout(.1))\n",
    "        layers.append(Dense(units=self.num_actions,\n",
    "                            name='Output'))\n",
    "        model = Sequential(layers)\n",
    "        model.compile(loss='mean_squared_error',\n",
    "                      optimizer=Adam(lr=self.learning_rate))\n",
    "        model.trainable = trainable\n",
    "        return model\n",
    "\n",
    "    def update_target(self):\n",
    "        self.target_network.set_weights(self.online_network.get_weights())\n",
    "\n",
    "    def load_model_weights(self, model_weights_filepath):\n",
    "        self.online_network.load_weights(model_weights_filepath)\n",
    "        print('Model weights loaded from: ' + model_weights_filepath)\n",
    "    \n",
    "    def save_model_weights(self, num_episodes, folder_id):\n",
    "        model_weights_filepath = 'weights/{0}_episodes/{1}/model_{2}.h5'.format(num_episodes, folder_id, self.ticker)\n",
    "        if(not Path(model_weights_filepath).exists()):\n",
    "            Path(model_weights_filepath).mkdir(parents=True)\n",
    "        self.online_network.save_weights(model_weights_filepath)\n",
    "        print('Model weights saved at: ' + model_weights_filepath)\n",
    "\n",
    "    def epsilon_greedy_policy(self, state):\n",
    "        self.total_steps += 1\n",
    "        if np.random.rand() <= self.epsilon:\n",
    "            return np.random.choice(self.num_actions)\n",
    "        q = self.online_network.predict(state, verbose=0)\n",
    "        return np.argmax(q, axis=1).squeeze()\n",
    "\n",
    "    def memorize_transition(self, s, a, r, s_prime, not_done):\n",
    "        if not_done:\n",
    "            self.episode_reward += r\n",
    "            self.episode_length += 1\n",
    "        else:\n",
    "            if self.train:\n",
    "                if self.episodes < self.epsilon_decay_steps:\n",
    "                    self.epsilon -= self.epsilon_decay\n",
    "                else:\n",
    "                    self.epsilon *= self.epsilon_exponential_decay\n",
    "\n",
    "            self.episodes += 1\n",
    "            self.rewards_history.append(self.episode_reward)\n",
    "            self.steps_per_episode.append(self.episode_length)\n",
    "            self.episode_reward, self.episode_length = 0, 0\n",
    "\n",
    "        self.experience.append((s, a, r, s_prime, not_done))\n",
    "\n",
    "    def experience_replay(self):\n",
    "        if self.batch_size > len(self.experience):\n",
    "            return\n",
    "        minibatch = map(np.array, zip(*sample(self.experience, self.batch_size)))\n",
    "        states, actions, rewards, next_states, not_done = minibatch\n",
    "\n",
    "        next_q_values = self.online_network.predict_on_batch(next_states)\n",
    "        best_actions = tf.argmax(next_q_values, axis=1)\n",
    "\n",
    "        next_q_values_target = self.target_network.predict_on_batch(next_states)\n",
    "        target_q_values = tf.gather_nd(next_q_values_target,\n",
    "                                       tf.stack((self.idx, tf.cast(best_actions, tf.int32)), axis=1))\n",
    "\n",
    "        targets = rewards + not_done * self.gamma * target_q_values\n",
    "\n",
    "        q_values = self.online_network.predict_on_batch(states)\n",
    "        q_values[(self.idx, actions)] = targets\n",
    "\n",
    "        loss = self.online_network.train_on_batch(x=states, y=q_values)\n",
    "        self.losses.append(loss)\n",
    "\n",
    "        if self.total_steps % self.tau == 0:\n",
    "            self.update_target()"
   ]
  },
  {
   "cell_type": "markdown",
   "metadata": {},
   "source": [
    "## Define hyperparameters"
   ]
  },
  {
   "cell_type": "code",
   "execution_count": 20,
   "metadata": {
    "ExecuteTime": {
     "end_time": "2021-02-25T06:20:32.575368Z",
     "start_time": "2021-02-25T06:20:32.565067Z"
    }
   },
   "outputs": [],
   "source": [
    "gamma = .99,  # discount factor\n",
    "tau = 100  # target network update frequency"
   ]
  },
  {
   "cell_type": "markdown",
   "metadata": {},
   "source": [
    "### NN Architecture"
   ]
  },
  {
   "cell_type": "code",
   "execution_count": 21,
   "metadata": {
    "ExecuteTime": {
     "end_time": "2021-02-25T06:20:32.584925Z",
     "start_time": "2021-02-25T06:20:32.576469Z"
    }
   },
   "outputs": [],
   "source": [
    "architecture = (256, 256)  # units per layer\n",
    "learning_rate = 0.01  # learning rate\n",
    "l2_reg = 1e-6  # L2 regularization"
   ]
  },
  {
   "cell_type": "markdown",
   "metadata": {},
   "source": [
    "### Experience Replay"
   ]
  },
  {
   "cell_type": "code",
   "execution_count": 22,
   "metadata": {
    "ExecuteTime": {
     "end_time": "2021-02-25T06:20:32.593134Z",
     "start_time": "2021-02-25T06:20:32.586645Z"
    }
   },
   "outputs": [],
   "source": [
    "replay_capacity = int(1e6)\n",
    "batch_size = 4096"
   ]
  },
  {
   "cell_type": "markdown",
   "metadata": {},
   "source": [
    "### $\\epsilon$-greedy Policy"
   ]
  },
  {
   "cell_type": "code",
   "execution_count": 23,
   "metadata": {
    "ExecuteTime": {
     "end_time": "2021-02-25T06:20:32.603464Z",
     "start_time": "2021-02-25T06:20:32.594606Z"
    }
   },
   "outputs": [],
   "source": [
    "epsilon_start = 1.0\n",
    "epsilon_end = .01\n",
    "epsilon_decay_steps = 250\n",
    "epsilon_exponential_decay = .99"
   ]
  },
  {
   "cell_type": "markdown",
   "metadata": {},
   "source": [
    "### Trainable"
   ]
  },
  {
   "cell_type": "code",
   "execution_count": 24,
   "metadata": {},
   "outputs": [],
   "source": [
    "train = True"
   ]
  },
  {
   "cell_type": "markdown",
   "metadata": {},
   "source": [
    "## Create DDQN Agent"
   ]
  },
  {
   "cell_type": "code",
   "execution_count": 25,
   "metadata": {
    "ExecuteTime": {
     "end_time": "2021-02-25T06:20:32.613239Z",
     "start_time": "2021-02-25T06:20:32.604766Z"
    }
   },
   "outputs": [],
   "source": [
    "tf.keras.backend.clear_session()"
   ]
  },
  {
   "cell_type": "code",
   "execution_count": 26,
   "metadata": {
    "ExecuteTime": {
     "end_time": "2021-02-25T06:20:32.720879Z",
     "start_time": "2021-02-25T06:20:32.614703Z"
    }
   },
   "outputs": [],
   "source": [
    "ddqn = {ticker: DDQNAgent(state_dim=state_dim,\n",
    "                 num_actions=num_actions,\n",
    "                 learning_rate=learning_rate,\n",
    "                 gamma=gamma,\n",
    "                 epsilon_start=epsilon_start,\n",
    "                 epsilon_end=epsilon_end,\n",
    "                 epsilon_decay_steps=epsilon_decay_steps,\n",
    "                 epsilon_exponential_decay=epsilon_exponential_decay,\n",
    "                 replay_capacity=replay_capacity,\n",
    "                 architecture=architecture,\n",
    "                 l2_reg=l2_reg,\n",
    "                 tau=tau,\n",
    "                 batch_size=batch_size,\n",
    "                 train=train,\n",
    "                 ticker=ticker) for ticker in tickers}"
   ]
  },
  {
   "cell_type": "code",
   "execution_count": 27,
   "metadata": {},
   "outputs": [
    {
     "name": "stdout",
     "output_type": "stream",
     "text": [
      "Model: \"sequential\"\n",
      "_________________________________________________________________\n",
      " Layer (type)                Output Shape              Param #   \n",
      "=================================================================\n",
      " simple_rnn (SimpleRNN)      (None, 128)               18176     \n",
      "                                                                 \n",
      " dropout (Dropout)           (None, 128)               0         \n",
      "                                                                 \n",
      " Output (Dense)              (None, 3)                 387       \n",
      "                                                                 \n",
      "=================================================================\n",
      "Total params: 18,563\n",
      "Trainable params: 18,563\n",
      "Non-trainable params: 0\n",
      "_________________________________________________________________\n"
     ]
    }
   ],
   "source": [
    "ddqn['AAPL'].online_network.summary()"
   ]
  },
  {
   "cell_type": "markdown",
   "metadata": {},
   "source": [
    "## Run Experiment"
   ]
  },
  {
   "cell_type": "markdown",
   "metadata": {},
   "source": [
    "### Set parameters"
   ]
  },
  {
   "cell_type": "code",
   "execution_count": 28,
   "metadata": {
    "ExecuteTime": {
     "end_time": "2021-02-25T06:20:32.733088Z",
     "start_time": "2021-02-25T06:20:32.727071Z"
    }
   },
   "outputs": [],
   "source": [
    "total_steps = 0\n",
    "max_episodes = 700"
   ]
  },
  {
   "cell_type": "markdown",
   "metadata": {},
   "source": [
    "### Initialize variables"
   ]
  },
  {
   "cell_type": "markdown",
   "metadata": {},
   "source": [
    "These variables will keep track of the agent results at the end of every episode"
   ]
  },
  {
   "cell_type": "code",
   "execution_count": 29,
   "metadata": {
    "ExecuteTime": {
     "end_time": "2021-02-25T06:20:32.741126Z",
     "start_time": "2021-02-25T06:20:32.734309Z"
    }
   },
   "outputs": [],
   "source": [
    "episode_time = []\n",
    "navs = {ticker: [] for ticker in tickers}\n",
    "market_navs = {ticker: [] for ticker in tickers}\n",
    "diffs = {ticker: [] for ticker in tickers}\n",
    "episode_eps = {ticker: [] for ticker in tickers}"
   ]
  },
  {
   "cell_type": "markdown",
   "metadata": {},
   "source": [
    "### Load model weights"
   ]
  },
  {
   "cell_type": "code",
   "execution_count": 30,
   "metadata": {},
   "outputs": [],
   "source": [
    "folder_id = 'fsdsgs'\n",
    "model_weights_filepaths = {ticker: 'weights/100_episodes/{0}/model_{1}.h5'.format(folder_id, ticker) for ticker in tickers}\n",
    "if(not train):\n",
    "    for ticker in tickers:\n",
    "        ddqn[ticker].load_model_weights(model_weights_filepaths[ticker])"
   ]
  },
  {
   "cell_type": "markdown",
   "metadata": {},
   "source": [
    "### Visualization"
   ]
  },
  {
   "cell_type": "code",
   "execution_count": 31,
   "metadata": {
    "ExecuteTime": {
     "end_time": "2021-02-25T06:20:32.752721Z",
     "start_time": "2021-02-25T06:20:32.742471Z"
    }
   },
   "outputs": [],
   "source": [
    "def track_results(episode, nav_ma_100, nav_ma_10,\n",
    "                  market_nav_100, market_nav_10,\n",
    "                  win_ratio, total, epsilon, ticker):\n",
    "    time_ma = np.mean([episode_time[-100:]])\n",
    "    T = np.sum(episode_time)\n",
    "    \n",
    "    template = '{:>4d} | {} | Agent: {:>6.1%} ({:>6.1%}) | '\n",
    "    template += 'Market: {:>6.1%} ({:>6.1%}) | '\n",
    "    template += 'Wins: {:>5.1%} | eps: {:>6.3f} | {}'\n",
    "    print(template.format(episode, format_time(total), \n",
    "                          nav_ma_100-1, nav_ma_10-1, \n",
    "                          market_nav_100-1, market_nav_10-1, \n",
    "                          win_ratio, epsilon, ticker))"
   ]
  },
  {
   "cell_type": "markdown",
   "metadata": {},
   "source": [
    "## Train Agent"
   ]
  },
  {
   "cell_type": "code",
   "execution_count": 32,
   "metadata": {
    "ExecuteTime": {
     "start_time": "2021-02-25T06:20:28.016Z"
    }
   },
   "outputs": [
    {
     "name": "stdout",
     "output_type": "stream",
     "text": [
      "WARNING:tensorflow:Model was constructed with shape (None, None, 13) for input KerasTensor(type_spec=TensorSpec(shape=(None, None, 13), dtype=tf.float32, name='simple_rnn_input'), name='simple_rnn_input', description=\"created by layer 'simple_rnn_input'\"), but it was called on an input with incompatible shape (None, 13).\n"
     ]
    },
    {
     "name": "stderr",
     "output_type": "stream",
     "text": [
      "WARNING:tensorflow:Model was constructed with shape (None, None, 13) for input KerasTensor(type_spec=TensorSpec(shape=(None, None, 13), dtype=tf.float32, name='simple_rnn_input'), name='simple_rnn_input', description=\"created by layer 'simple_rnn_input'\"), but it was called on an input with incompatible shape (None, 13).\n"
     ]
    },
    {
     "ename": "ValueError",
     "evalue": "in user code:\n\n    File \"c:\\Users\\elkin\\AppData\\Local\\Programs\\Python\\Python310\\lib\\site-packages\\keras\\engine\\training.py\", line 2041, in predict_function  *\n        return step_function(self, iterator)\n    File \"c:\\Users\\elkin\\AppData\\Local\\Programs\\Python\\Python310\\lib\\site-packages\\keras\\engine\\training.py\", line 2027, in step_function  **\n        outputs = model.distribute_strategy.run(run_step, args=(data,))\n    File \"c:\\Users\\elkin\\AppData\\Local\\Programs\\Python\\Python310\\lib\\site-packages\\keras\\engine\\training.py\", line 2015, in run_step  **\n        outputs = model.predict_step(data)\n    File \"c:\\Users\\elkin\\AppData\\Local\\Programs\\Python\\Python310\\lib\\site-packages\\keras\\engine\\training.py\", line 1983, in predict_step\n        return self(x, training=False)\n    File \"c:\\Users\\elkin\\AppData\\Local\\Programs\\Python\\Python310\\lib\\site-packages\\keras\\utils\\traceback_utils.py\", line 70, in error_handler\n        raise e.with_traceback(filtered_tb) from None\n    File \"c:\\Users\\elkin\\AppData\\Local\\Programs\\Python\\Python310\\lib\\site-packages\\keras\\engine\\input_spec.py\", line 232, in assert_input_compatibility\n        raise ValueError(\n\n    ValueError: Exception encountered when calling layer \"sequential\" \"                 f\"(type Sequential).\n    \n    Input 0 of layer \"simple_rnn\" is incompatible with the layer: expected ndim=3, found ndim=2. Full shape received: (None, 13)\n    \n    Call arguments received by layer \"sequential\" \"                 f\"(type Sequential):\n      • inputs=tf.Tensor(shape=(None, 13), dtype=float32)\n      • training=False\n      • mask=None\n",
     "output_type": "error",
     "traceback": [
      "\u001b[1;31m---------------------------------------------------------------------------\u001b[0m",
      "\u001b[1;31mValueError\u001b[0m                                Traceback (most recent call last)",
      "\u001b[1;32mc:\\Users\\elkin\\Desktop\\Thesis docs\\deep-reinforcement-learning-for-trading\\ddq_learning_rnn.ipynb Cell 58\u001b[0m in \u001b[0;36m<cell line: 3>\u001b[1;34m()\u001b[0m\n\u001b[0;32m      <a href='vscode-notebook-cell:/c%3A/Users/elkin/Desktop/Thesis%20docs/deep-reinforcement-learning-for-trading/ddq_learning_rnn.ipynb#Y111sZmlsZQ%3D%3D?line=5'>6</a>\u001b[0m actions \u001b[39m=\u001b[39m {}\n\u001b[0;32m      <a href='vscode-notebook-cell:/c%3A/Users/elkin/Desktop/Thesis%20docs/deep-reinforcement-learning-for-trading/ddq_learning_rnn.ipynb#Y111sZmlsZQ%3D%3D?line=6'>7</a>\u001b[0m \u001b[39mfor\u001b[39;00m ticker \u001b[39min\u001b[39;00m tickers:\n\u001b[1;32m----> <a href='vscode-notebook-cell:/c%3A/Users/elkin/Desktop/Thesis%20docs/deep-reinforcement-learning-for-trading/ddq_learning_rnn.ipynb#Y111sZmlsZQ%3D%3D?line=7'>8</a>\u001b[0m     action \u001b[39m=\u001b[39m ddqn[ticker]\u001b[39m.\u001b[39;49mepsilon_greedy_policy(current_states[ticker]\u001b[39m.\u001b[39;49mreshape(\u001b[39m-\u001b[39;49m\u001b[39m1\u001b[39;49m, state_dim))\n\u001b[0;32m      <a href='vscode-notebook-cell:/c%3A/Users/elkin/Desktop/Thesis%20docs/deep-reinforcement-learning-for-trading/ddq_learning_rnn.ipynb#Y111sZmlsZQ%3D%3D?line=8'>9</a>\u001b[0m     actions[ticker] \u001b[39m=\u001b[39m action\n\u001b[0;32m     <a href='vscode-notebook-cell:/c%3A/Users/elkin/Desktop/Thesis%20docs/deep-reinforcement-learning-for-trading/ddq_learning_rnn.ipynb#Y111sZmlsZQ%3D%3D?line=10'>11</a>\u001b[0m next_states, rewards, done, _ \u001b[39m=\u001b[39m trading_environment\u001b[39m.\u001b[39mstep(actions)\n",
      "\u001b[1;32mc:\\Users\\elkin\\Desktop\\Thesis docs\\deep-reinforcement-learning-for-trading\\ddq_learning_rnn.ipynb Cell 58\u001b[0m in \u001b[0;36mDDQNAgent.epsilon_greedy_policy\u001b[1;34m(self, state)\u001b[0m\n\u001b[0;32m     <a href='vscode-notebook-cell:/c%3A/Users/elkin/Desktop/Thesis%20docs/deep-reinforcement-learning-for-trading/ddq_learning_rnn.ipynb#Y111sZmlsZQ%3D%3D?line=87'>88</a>\u001b[0m \u001b[39mif\u001b[39;00m np\u001b[39m.\u001b[39mrandom\u001b[39m.\u001b[39mrand() \u001b[39m<\u001b[39m\u001b[39m=\u001b[39m \u001b[39mself\u001b[39m\u001b[39m.\u001b[39mepsilon:\n\u001b[0;32m     <a href='vscode-notebook-cell:/c%3A/Users/elkin/Desktop/Thesis%20docs/deep-reinforcement-learning-for-trading/ddq_learning_rnn.ipynb#Y111sZmlsZQ%3D%3D?line=88'>89</a>\u001b[0m     \u001b[39mreturn\u001b[39;00m np\u001b[39m.\u001b[39mrandom\u001b[39m.\u001b[39mchoice(\u001b[39mself\u001b[39m\u001b[39m.\u001b[39mnum_actions)\n\u001b[1;32m---> <a href='vscode-notebook-cell:/c%3A/Users/elkin/Desktop/Thesis%20docs/deep-reinforcement-learning-for-trading/ddq_learning_rnn.ipynb#Y111sZmlsZQ%3D%3D?line=89'>90</a>\u001b[0m q \u001b[39m=\u001b[39m \u001b[39mself\u001b[39;49m\u001b[39m.\u001b[39;49monline_network\u001b[39m.\u001b[39;49mpredict(state, verbose\u001b[39m=\u001b[39;49m\u001b[39m0\u001b[39;49m)\n\u001b[0;32m     <a href='vscode-notebook-cell:/c%3A/Users/elkin/Desktop/Thesis%20docs/deep-reinforcement-learning-for-trading/ddq_learning_rnn.ipynb#Y111sZmlsZQ%3D%3D?line=90'>91</a>\u001b[0m \u001b[39mreturn\u001b[39;00m np\u001b[39m.\u001b[39margmax(q, axis\u001b[39m=\u001b[39m\u001b[39m1\u001b[39m)\u001b[39m.\u001b[39msqueeze()\n",
      "File \u001b[1;32mc:\\Users\\elkin\\AppData\\Local\\Programs\\Python\\Python310\\lib\\site-packages\\keras\\utils\\traceback_utils.py:70\u001b[0m, in \u001b[0;36mfilter_traceback.<locals>.error_handler\u001b[1;34m(*args, **kwargs)\u001b[0m\n\u001b[0;32m     67\u001b[0m     filtered_tb \u001b[39m=\u001b[39m _process_traceback_frames(e\u001b[39m.\u001b[39m__traceback__)\n\u001b[0;32m     68\u001b[0m     \u001b[39m# To get the full stack trace, call:\u001b[39;00m\n\u001b[0;32m     69\u001b[0m     \u001b[39m# `tf.debugging.disable_traceback_filtering()`\u001b[39;00m\n\u001b[1;32m---> 70\u001b[0m     \u001b[39mraise\u001b[39;00m e\u001b[39m.\u001b[39mwith_traceback(filtered_tb) \u001b[39mfrom\u001b[39;00m \u001b[39mNone\u001b[39m\n\u001b[0;32m     71\u001b[0m \u001b[39mfinally\u001b[39;00m:\n\u001b[0;32m     72\u001b[0m     \u001b[39mdel\u001b[39;00m filtered_tb\n",
      "File \u001b[1;32m~\\AppData\\Local\\Temp\\__autograph_generated_filecw9ncw_k.py:15\u001b[0m, in \u001b[0;36mouter_factory.<locals>.inner_factory.<locals>.tf__predict_function\u001b[1;34m(iterator)\u001b[0m\n\u001b[0;32m     13\u001b[0m \u001b[39mtry\u001b[39;00m:\n\u001b[0;32m     14\u001b[0m     do_return \u001b[39m=\u001b[39m \u001b[39mTrue\u001b[39;00m\n\u001b[1;32m---> 15\u001b[0m     retval_ \u001b[39m=\u001b[39m ag__\u001b[39m.\u001b[39mconverted_call(ag__\u001b[39m.\u001b[39mld(step_function), (ag__\u001b[39m.\u001b[39mld(\u001b[39mself\u001b[39m), ag__\u001b[39m.\u001b[39mld(iterator)), \u001b[39mNone\u001b[39;00m, fscope)\n\u001b[0;32m     16\u001b[0m \u001b[39mexcept\u001b[39;00m:\n\u001b[0;32m     17\u001b[0m     do_return \u001b[39m=\u001b[39m \u001b[39mFalse\u001b[39;00m\n",
      "\u001b[1;31mValueError\u001b[0m: in user code:\n\n    File \"c:\\Users\\elkin\\AppData\\Local\\Programs\\Python\\Python310\\lib\\site-packages\\keras\\engine\\training.py\", line 2041, in predict_function  *\n        return step_function(self, iterator)\n    File \"c:\\Users\\elkin\\AppData\\Local\\Programs\\Python\\Python310\\lib\\site-packages\\keras\\engine\\training.py\", line 2027, in step_function  **\n        outputs = model.distribute_strategy.run(run_step, args=(data,))\n    File \"c:\\Users\\elkin\\AppData\\Local\\Programs\\Python\\Python310\\lib\\site-packages\\keras\\engine\\training.py\", line 2015, in run_step  **\n        outputs = model.predict_step(data)\n    File \"c:\\Users\\elkin\\AppData\\Local\\Programs\\Python\\Python310\\lib\\site-packages\\keras\\engine\\training.py\", line 1983, in predict_step\n        return self(x, training=False)\n    File \"c:\\Users\\elkin\\AppData\\Local\\Programs\\Python\\Python310\\lib\\site-packages\\keras\\utils\\traceback_utils.py\", line 70, in error_handler\n        raise e.with_traceback(filtered_tb) from None\n    File \"c:\\Users\\elkin\\AppData\\Local\\Programs\\Python\\Python310\\lib\\site-packages\\keras\\engine\\input_spec.py\", line 232, in assert_input_compatibility\n        raise ValueError(\n\n    ValueError: Exception encountered when calling layer \"sequential\" \"                 f\"(type Sequential).\n    \n    Input 0 of layer \"simple_rnn\" is incompatible with the layer: expected ndim=3, found ndim=2. Full shape received: (None, 13)\n    \n    Call arguments received by layer \"sequential\" \"                 f\"(type Sequential):\n      • inputs=tf.Tensor(shape=(None, 13), dtype=float32)\n      • training=False\n      • mask=None\n"
     ]
    }
   ],
   "source": [
    "start = time()\n",
    "results = []\n",
    "for episode in range(1, max_episodes + 1):\n",
    "    current_states = trading_environment.reset()\n",
    "    for episode_step in range(max_episode_steps):\n",
    "        actions = {}\n",
    "        for ticker in tickers:\n",
    "            action = ddqn[ticker].epsilon_greedy_policy(current_states[ticker].reshape(-1, state_dim))\n",
    "            actions[ticker] = action\n",
    "        \n",
    "        next_states, rewards, done, _ = trading_environment.step(actions)\n",
    "\n",
    "        for ticker in tickers:\n",
    "            ddqn[ticker].memorize_transition(current_states[ticker], \n",
    "                                    actions[ticker], \n",
    "                                    rewards[ticker], \n",
    "                                    next_states[ticker], \n",
    "                                    0.0 if done else 1.0)\n",
    "            if ddqn[ticker].train:\n",
    "                ddqn[ticker].experience_replay()\n",
    "        if done:\n",
    "            break\n",
    "        current_states = next_states.copy()\n",
    "\n",
    "    # get DataFrame with seqence of actions, returns and nav values\n",
    "    result = trading_environment.env.simulator.result()\n",
    "    \n",
    "    for ticker in tickers:\n",
    "        # get results of last step\n",
    "        final = pd.DataFrame({c: [result[c][ticker][-1]] for c in result.columns}).iloc[0]\n",
    "\n",
    "        # apply return (net of cost) of last action to last starting nav \n",
    "        nav = final.nav * (1 + final.strategy_return)\n",
    "        navs[ticker].append(nav)\n",
    "\n",
    "        # market nav \n",
    "        market_nav = final.market_nav\n",
    "        market_navs[ticker].append(market_nav)\n",
    "\n",
    "        # track difference between agent an market NAV results\n",
    "        diff = nav - market_nav\n",
    "        diffs[ticker].append(diff)\n",
    "    \n",
    "        if episode % 10 == 0:\n",
    "            track_results(episode, \n",
    "                        # show mov. average results for 100 (10) periods\n",
    "                        np.mean(navs[ticker][-100:]), \n",
    "                        np.mean(navs[ticker][-10:]), \n",
    "                        np.mean(market_navs[ticker][-100:]), \n",
    "                        np.mean(market_navs[ticker][-10:]), \n",
    "                        # share of agent wins, defined as higher ending nav\n",
    "                        np.sum([s > 0 for s in diffs[ticker][-100:]])/min(len(diffs[ticker]), 100), \n",
    "                        time() - start, ddqn[ticker].epsilon, ticker)\n",
    "        if len(diffs[ticker]) > 25 and all([r > 0 for r in diffs[ticker][-25:]]):\n",
    "            print(result.tail())\n",
    "            break\n",
    "    if episode % 10 == 0:\n",
    "        print(\"---------------------------------------------------------------------------------------------------------\")\n",
    "\n",
    "trading_environment.close()"
   ]
  },
  {
   "cell_type": "markdown",
   "metadata": {},
   "source": [
    "### Save trained model"
   ]
  },
  {
   "cell_type": "code",
   "execution_count": null,
   "metadata": {},
   "outputs": [],
   "source": [
    "if(train):\n",
    "    folder_id = ''.join(choice(string.digits + string.ascii_lowercase) for i in range(10))\n",
    "    for ticker in tickers:\n",
    "        ddqn[ticker].save_model_weights(max_episodes, folder_id)"
   ]
  },
  {
   "cell_type": "markdown",
   "metadata": {},
   "source": [
    "## Results"
   ]
  },
  {
   "cell_type": "code",
   "execution_count": null,
   "metadata": {
    "ExecuteTime": {
     "start_time": "2021-02-25T06:20:28.020Z"
    }
   },
   "outputs": [],
   "source": [
    "for ticker in tickers:\n",
    "    results = pd.DataFrame({'Episode': list(range(1, episode+1)),\n",
    "                            'Agent': navs[ticker],\n",
    "                            'Market': market_navs[ticker],\n",
    "                            'Difference': diffs[ticker]}).set_index('Episode')\n",
    "\n",
    "    results['Strategy Wins (%)'] = (results.Difference > 0).rolling(int(max_episodes*0.10)).sum()\n",
    "\n",
    "    results.to_csv(results_path / 'results_{0}.csv'.format(ticker), index=False)\n",
    "    \n",
    "    # Evaluate results\n",
    "    fig, axes = plt.subplots(ncols=2, figsize=(14, 4), sharey=True)\n",
    "\n",
    "    df1 = (results[['Agent', 'Market']]\n",
    "        .sub(1)\n",
    "        .rolling(int(max_episodes*0.10))\n",
    "        .mean())\n",
    "    df1.plot(ax=axes[0],\n",
    "            title='Annual Returns (Moving Average) - {0}'.format(ticker),\n",
    "            lw=1)\n",
    "\n",
    "    df2 = results['Strategy Wins (%)'].div(int(max_episodes*0.10)).rolling(int(max_episodes*0.05)).mean()\n",
    "    df2.plot(ax=axes[1],\n",
    "            title='Agent Outperformance (%, Moving Average) - {0}'.format(ticker))\n",
    "\n",
    "    for ax in axes:\n",
    "        ax.yaxis.set_major_formatter(\n",
    "            FuncFormatter(lambda y, _: '{:.0%}'.format(y)))\n",
    "        ax.xaxis.set_major_formatter(\n",
    "            FuncFormatter(lambda x, _: '{:,.0f}'.format(x)))\n",
    "    axes[1].axhline(.5, ls='--', c='k', lw=1)\n",
    "\n",
    "    sns.despine()\n",
    "    fig.tight_layout()\n",
    "    fig.savefig(results_path / 'performance_{0}'.format(ticker), dpi=300)"
   ]
  }
 ],
 "metadata": {
  "kernelspec": {
   "display_name": "Python 3 (ipykernel)",
   "language": "python",
   "name": "python3"
  },
  "language_info": {
   "codemirror_mode": {
    "name": "ipython",
    "version": 3
   },
   "file_extension": ".py",
   "mimetype": "text/x-python",
   "name": "python",
   "nbconvert_exporter": "python",
   "pygments_lexer": "ipython3",
   "version": "3.10.4"
  },
  "toc": {
   "base_numbering": 1,
   "nav_menu": {},
   "number_sections": true,
   "sideBar": true,
   "skip_h1_title": true,
   "title_cell": "Table of Contents",
   "title_sidebar": "Contents",
   "toc_cell": false,
   "toc_position": {
    "height": "calc(100% - 180px)",
    "left": "10px",
    "top": "150px",
    "width": "230.906px"
   },
   "toc_section_display": true,
   "toc_window_display": true
  },
  "vscode": {
   "interpreter": {
    "hash": "2b7e42a4a8cf5b82c85f822eec3e755ac44be55f3eeb742e372e8aa7fb014abb"
   }
  }
 },
 "nbformat": 4,
 "nbformat_minor": 4
}
